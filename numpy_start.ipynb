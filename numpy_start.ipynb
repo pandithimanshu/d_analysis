{
 "cells": [
  {
   "cell_type": "markdown",
   "id": "b41bdb67-7974-4523-8807-4803320677d4",
   "metadata": {},
   "source": [
    "#numpy"
   ]
  },
  {
   "cell_type": "code",
   "execution_count": 1,
   "id": "b21285bb-c078-4173-acc7-b89fc3aa7b37",
   "metadata": {},
   "outputs": [],
   "source": [
    "import numpy as np"
   ]
  },
  {
   "cell_type": "code",
   "execution_count": 2,
   "id": "64616d2b-363f-4cda-99bd-305dbb2c088e",
   "metadata": {},
   "outputs": [],
   "source": [
    "myarr = np.array([[2,3,45,]],np.int8)"
   ]
  },
  {
   "cell_type": "code",
   "execution_count": 3,
   "id": "8f6ede58-3d80-4daf-b040-17bd112613a5",
   "metadata": {},
   "outputs": [
    {
     "name": "stdout",
     "output_type": "stream",
     "text": [
      "[[ 2  3 45]]\n"
     ]
    }
   ],
   "source": [
    "print(myarr)"
   ]
  },
  {
   "cell_type": "code",
   "execution_count": 4,
   "id": "1f81e208-ee7c-490d-b6b8-61a93d44b1f7",
   "metadata": {},
   "outputs": [
    {
     "data": {
      "text/plain": [
       "array([ 2,  3, 45], dtype=int8)"
      ]
     },
     "execution_count": 4,
     "metadata": {},
     "output_type": "execute_result"
    }
   ],
   "source": [
    "myarr[0]"
   ]
  },
  {
   "cell_type": "code",
   "execution_count": 5,
   "id": "0c2c1b6d-3ce9-469e-9442-2cbb4dbb71ac",
   "metadata": {},
   "outputs": [
    {
     "data": {
      "text/plain": [
       "np.int8(2)"
      ]
     },
     "execution_count": 5,
     "metadata": {},
     "output_type": "execute_result"
    }
   ],
   "source": [
    "myarr[0,0]"
   ]
  },
  {
   "cell_type": "code",
   "execution_count": 6,
   "id": "23ec97f0-8708-4b1c-b727-91ad16cb015b",
   "metadata": {},
   "outputs": [],
   "source": [
    "nnn = np.array([[1,3,4],[2,42,5]])"
   ]
  },
  {
   "cell_type": "code",
   "execution_count": 7,
   "id": "8770f03e-bd4b-46d2-add1-7f624908a4e8",
   "metadata": {},
   "outputs": [
    {
     "data": {
      "text/plain": [
       "(2, 3)"
      ]
     },
     "execution_count": 7,
     "metadata": {},
     "output_type": "execute_result"
    }
   ],
   "source": [
    "nnn.shape"
   ]
  },
  {
   "cell_type": "code",
   "execution_count": 8,
   "id": "ef514115-7abe-4c20-b97b-d910b1641129",
   "metadata": {},
   "outputs": [
    {
     "data": {
      "text/plain": [
       "np.int64(4)"
      ]
     },
     "execution_count": 8,
     "metadata": {},
     "output_type": "execute_result"
    }
   ],
   "source": [
    "nnn[0][2]"
   ]
  },
  {
   "cell_type": "code",
   "execution_count": 7,
   "id": "2c42962d-c574-4144-9722-b557c5833966",
   "metadata": {},
   "outputs": [
    {
     "data": {
      "text/plain": [
       "array([ 2,  3, 45], dtype=int8)"
      ]
     },
     "execution_count": 7,
     "metadata": {},
     "output_type": "execute_result"
    }
   ],
   "source": [
    "myarr[0]\n"
   ]
  },
  {
   "cell_type": "code",
   "execution_count": 8,
   "id": "ec427f57-df5e-4e7f-ba67-d19cff4b617d",
   "metadata": {},
   "outputs": [
    {
     "data": {
      "text/plain": [
       "array([ 2,  3, 45], dtype=int8)"
      ]
     },
     "execution_count": 8,
     "metadata": {},
     "output_type": "execute_result"
    }
   ],
   "source": [
    "myarr[0]"
   ]
  },
  {
   "cell_type": "code",
   "execution_count": 9,
   "id": "604c7248-d853-4810-b09d-14bfde2ed961",
   "metadata": {},
   "outputs": [
    {
     "data": {
      "text/plain": [
       "(1, 3)"
      ]
     },
     "execution_count": 9,
     "metadata": {},
     "output_type": "execute_result"
    }
   ],
   "source": [
    "myarr.shape"
   ]
  },
  {
   "cell_type": "code",
   "execution_count": 10,
   "id": "1127fad4-31c9-4262-9329-d0d0cdaecb67",
   "metadata": {},
   "outputs": [
    {
     "data": {
      "text/plain": [
       "dtype('int8')"
      ]
     },
     "execution_count": 10,
     "metadata": {},
     "output_type": "execute_result"
    }
   ],
   "source": [
    "myarr.dtype"
   ]
  },
  {
   "cell_type": "code",
   "execution_count": 11,
   "id": "64fdd1cb-5027-4653-8752-c1654cf0f1ed",
   "metadata": {},
   "outputs": [
    {
     "data": {
      "text/plain": [
       "3"
      ]
     },
     "execution_count": 11,
     "metadata": {},
     "output_type": "execute_result"
    }
   ],
   "source": [
    "myarr.size\n"
   ]
  },
  {
   "cell_type": "code",
   "execution_count": 12,
   "id": "a012b452-aaf3-4da1-9a5f-2903894a2ab9",
   "metadata": {},
   "outputs": [],
   "source": [
    "zeros = np.zeros((2,3))"
   ]
  },
  {
   "cell_type": "code",
   "execution_count": 13,
   "id": "1454029b-141a-445c-b191-43c230eaeb39",
   "metadata": {},
   "outputs": [
    {
     "data": {
      "text/plain": [
       "array([[0., 0., 0.],\n",
       "       [0., 0., 0.]])"
      ]
     },
     "execution_count": 13,
     "metadata": {},
     "output_type": "execute_result"
    }
   ],
   "source": [
    "zeros"
   ]
  },
  {
   "cell_type": "code",
   "execution_count": 14,
   "id": "dfad568c-2919-42f0-8434-48c7e0607797",
   "metadata": {},
   "outputs": [],
   "source": [
    "mynums = np.arange(15)"
   ]
  },
  {
   "cell_type": "code",
   "execution_count": 15,
   "id": "8ccb0484-db5e-4116-b841-6d153d04a4e5",
   "metadata": {},
   "outputs": [
    {
     "data": {
      "text/plain": [
       "array([ 0,  1,  2,  3,  4,  5,  6,  7,  8,  9, 10, 11, 12, 13, 14])"
      ]
     },
     "execution_count": 15,
     "metadata": {},
     "output_type": "execute_result"
    }
   ],
   "source": [
    "mynums"
   ]
  },
  {
   "cell_type": "code",
   "execution_count": 16,
   "id": "73eec48e-9a0f-438d-b767-a509e44e2990",
   "metadata": {},
   "outputs": [],
   "source": [
    "lnums = np.linspace(1,5,10)"
   ]
  },
  {
   "cell_type": "code",
   "execution_count": 17,
   "id": "1655e683-8acf-43a8-bd0c-5a9ff8d0085b",
   "metadata": {},
   "outputs": [
    {
     "data": {
      "text/plain": [
       "array([1.        , 1.44444444, 1.88888889, 2.33333333, 2.77777778,\n",
       "       3.22222222, 3.66666667, 4.11111111, 4.55555556, 5.        ])"
      ]
     },
     "execution_count": 17,
     "metadata": {},
     "output_type": "execute_result"
    }
   ],
   "source": [
    "lnums"
   ]
  },
  {
   "cell_type": "code",
   "execution_count": 18,
   "id": "b1812e99-0bb3-4df8-9ab0-7eb1a78d78b1",
   "metadata": {},
   "outputs": [
    {
     "data": {
      "text/plain": [
       "array([ 1.  , 13.25, 25.5 , 37.75, 50.  ])"
      ]
     },
     "execution_count": 18,
     "metadata": {},
     "output_type": "execute_result"
    }
   ],
   "source": [
    "np.linspace(1,50,5)"
   ]
  },
  {
   "cell_type": "code",
   "execution_count": 19,
   "id": "eea1af07-3354-4b30-bbb2-a2d7794869f0",
   "metadata": {},
   "outputs": [
    {
     "data": {
      "text/plain": [
       "array([ 1.        ,  6.44444444, 11.88888889, 17.33333333, 22.77777778,\n",
       "       28.22222222, 33.66666667, 39.11111111, 44.55555556, 50.        ])"
      ]
     },
     "execution_count": 19,
     "metadata": {},
     "output_type": "execute_result"
    }
   ],
   "source": [
    "np.linspace(1,50,10)"
   ]
  },
  {
   "cell_type": "code",
   "execution_count": 20,
   "id": "b4fabc88-c05c-4a00-8987-124368039f5c",
   "metadata": {},
   "outputs": [
    {
     "data": {
      "text/plain": [
       "array([ 0. , 12.5, 25. , 37.5, 50. ])"
      ]
     },
     "execution_count": 20,
     "metadata": {},
     "output_type": "execute_result"
    }
   ],
   "source": [
    "np.linspace(0,50,5)"
   ]
  },
  {
   "cell_type": "code",
   "execution_count": 21,
   "id": "621b21ff-fd0c-4c89-a94e-418e17fc5ab3",
   "metadata": {},
   "outputs": [
    {
     "data": {
      "text/plain": [
       "array([10., 20., 30., 40., 50.])"
      ]
     },
     "execution_count": 21,
     "metadata": {},
     "output_type": "execute_result"
    }
   ],
   "source": [
    "np.linspace(10,50,5)"
   ]
  },
  {
   "cell_type": "code",
   "execution_count": 22,
   "id": "29d1a95e-afed-4af9-b904-50be72b941ca",
   "metadata": {},
   "outputs": [
    {
     "data": {
      "text/plain": [
       "array([ 0.        ,  5.55555556, 11.11111111, 16.66666667, 22.22222222,\n",
       "       27.77777778, 33.33333333, 38.88888889, 44.44444444, 50.        ])"
      ]
     },
     "execution_count": 22,
     "metadata": {},
     "output_type": "execute_result"
    }
   ],
   "source": [
    "np.linspace(0,50,10)"
   ]
  },
  {
   "cell_type": "code",
   "execution_count": 23,
   "id": "86443e88-c779-4a1c-99ee-2fe9142f66fe",
   "metadata": {},
   "outputs": [
    {
     "data": {
      "text/plain": [
       "array([ 0,  5, 10, 15, 20, 25, 30, 35, 40, 45, 50], dtype=int32)"
      ]
     },
     "execution_count": 23,
     "metadata": {},
     "output_type": "execute_result"
    }
   ],
   "source": [
    "np.linspace(0,50,11,dtype= np.int32)"
   ]
  },
  {
   "cell_type": "code",
   "execution_count": 24,
   "id": "11814f44-6b07-4f25-be27-8c6d02deb864",
   "metadata": {},
   "outputs": [
    {
     "data": {
      "text/plain": [
       "array([[1, 0, 0, ..., 0, 0, 0],\n",
       "       [0, 1, 0, ..., 0, 0, 0],\n",
       "       [0, 0, 1, ..., 0, 0, 0],\n",
       "       ...,\n",
       "       [0, 0, 0, ..., 1, 0, 0],\n",
       "       [0, 0, 0, ..., 0, 1, 0],\n",
       "       [0, 0, 0, ..., 0, 0, 1]], dtype=int32)"
      ]
     },
     "execution_count": 24,
     "metadata": {},
     "output_type": "execute_result"
    }
   ],
   "source": [
    "np.identity(40,dtype=np.int32)"
   ]
  },
  {
   "cell_type": "code",
   "execution_count": 25,
   "id": "97eb723b-2143-47bd-aa20-fd72e0a6353e",
   "metadata": {},
   "outputs": [
    {
     "data": {
      "text/plain": [
       "array([ 0.        ,  5.55555556, 11.11111111, 16.66666667, 22.22222222,\n",
       "       27.77777778, 33.33333333, 38.88888889, 44.44444444, 50.        ])"
      ]
     },
     "execution_count": 25,
     "metadata": {},
     "output_type": "execute_result"
    }
   ],
   "source": [
    "np.empty(10)"
   ]
  },
  {
   "cell_type": "code",
   "execution_count": 26,
   "id": "6c101085-2f82-4ef0-ad8a-79b77eb47520",
   "metadata": {},
   "outputs": [
    {
     "data": {
      "text/plain": [
       "array(0)"
      ]
     },
     "execution_count": 26,
     "metadata": {},
     "output_type": "execute_result"
    }
   ],
   "source": [
    "np.empty_like(10)"
   ]
  },
  {
   "cell_type": "code",
   "execution_count": 27,
   "id": "fd4d9f18-6e41-4559-ac25-52187f85050b",
   "metadata": {},
   "outputs": [
    {
     "data": {
      "text/plain": [
       "array([0, 0, 0])"
      ]
     },
     "execution_count": 27,
     "metadata": {},
     "output_type": "execute_result"
    }
   ],
   "source": [
    "np.empty_like([2,4,3])"
   ]
  },
  {
   "cell_type": "code",
   "execution_count": 28,
   "id": "ffebe94e-1a77-4adb-ae64-1a2298a61fe6",
   "metadata": {},
   "outputs": [
    {
     "data": {
      "text/plain": [
       "array([ 0.        ,  5.55555556, 11.11111111, 16.66666667, 22.22222222,\n",
       "       27.77777778, 33.33333333, 38.88888889, 44.44444444, 50.        ])"
      ]
     },
     "execution_count": 28,
     "metadata": {},
     "output_type": "execute_result"
    }
   ],
   "source": [
    "np.empty_like(lnums)"
   ]
  },
  {
   "cell_type": "code",
   "execution_count": 29,
   "id": "c83b8d54-859a-4bfe-a213-09427808fff5",
   "metadata": {},
   "outputs": [
    {
     "data": {
      "text/plain": [
       "10"
      ]
     },
     "execution_count": 29,
     "metadata": {},
     "output_type": "execute_result"
    }
   ],
   "source": [
    "np.empty_like(lnums).size"
   ]
  },
  {
   "cell_type": "code",
   "execution_count": 30,
   "id": "dddc7685-c42c-44f5-a198-7ddee67fbe04",
   "metadata": {},
   "outputs": [
    {
     "data": {
      "text/plain": [
       "(10,)"
      ]
     },
     "execution_count": 30,
     "metadata": {},
     "output_type": "execute_result"
    }
   ],
   "source": [
    "lnums.shape"
   ]
  },
  {
   "cell_type": "code",
   "execution_count": 31,
   "id": "98710424-94fb-4062-b53e-20b0e19d8ad6",
   "metadata": {},
   "outputs": [
    {
     "data": {
      "text/plain": [
       "<memory at 0x000001EF23486200>"
      ]
     },
     "execution_count": 31,
     "metadata": {},
     "output_type": "execute_result"
    }
   ],
   "source": [
    "lnums.data"
   ]
  },
  {
   "cell_type": "code",
   "execution_count": 32,
   "id": "92731bd5-d82d-4d76-a672-38abb3da7a22",
   "metadata": {},
   "outputs": [
    {
     "data": {
      "text/plain": [
       "dtype('float64')"
      ]
     },
     "execution_count": 32,
     "metadata": {},
     "output_type": "execute_result"
    }
   ],
   "source": [
    "lnums.dtype"
   ]
  },
  {
   "cell_type": "code",
   "execution_count": 33,
   "id": "769d7117-8cc1-4c7a-8cc8-bb3b722b3263",
   "metadata": {},
   "outputs": [
    {
     "data": {
      "text/plain": [
       "array([1, 1, 1, 2, 2, 3, 3, 4, 4, 5], dtype=int32)"
      ]
     },
     "execution_count": 33,
     "metadata": {},
     "output_type": "execute_result"
    }
   ],
   "source": [
    "lnums.astype(np.int32)"
   ]
  },
  {
   "cell_type": "code",
   "execution_count": 34,
   "id": "d465c37a-bd25-490d-b43c-0f99f717fdb5",
   "metadata": {},
   "outputs": [
    {
     "data": {
      "text/plain": [
       "array([[ 0.        ,  5.55555556, 11.11111111, 16.66666667, 22.22222222],\n",
       "       [27.77777778, 33.33333333, 38.88888889, 44.44444444, 50.        ]])"
      ]
     },
     "execution_count": 34,
     "metadata": {},
     "output_type": "execute_result"
    }
   ],
   "source": [
    "np.empty_like(lnums).reshape(2,5)"
   ]
  },
  {
   "cell_type": "code",
   "execution_count": 35,
   "id": "0397dbe7-6812-4ab6-a140-d0fb47b0fbad",
   "metadata": {},
   "outputs": [
    {
     "data": {
      "text/plain": [
       "array([1.        , 1.44444444, 1.88888889, 2.33333333, 2.77777778,\n",
       "       3.22222222, 3.66666667, 4.11111111, 4.55555556, 5.        ])"
      ]
     },
     "execution_count": 35,
     "metadata": {},
     "output_type": "execute_result"
    }
   ],
   "source": [
    "lnums"
   ]
  },
  {
   "cell_type": "code",
   "execution_count": 36,
   "id": "a6f18d22-c011-440c-bddb-d6b76d326563",
   "metadata": {},
   "outputs": [
    {
     "data": {
      "text/plain": [
       "array([[1.        , 1.44444444, 1.88888889, 2.33333333, 2.77777778],\n",
       "       [3.22222222, 3.66666667, 4.11111111, 4.55555556, 5.        ]])"
      ]
     },
     "execution_count": 36,
     "metadata": {},
     "output_type": "execute_result"
    }
   ],
   "source": [
    "lnums.reshape(2,5)"
   ]
  },
  {
   "cell_type": "code",
   "execution_count": 37,
   "id": "51d2a81b-6c8e-4b87-b8a0-21ec04231255",
   "metadata": {},
   "outputs": [
    {
     "data": {
      "text/plain": [
       "array([1.        , 1.44444444, 1.88888889, 2.33333333, 2.77777778,\n",
       "       3.22222222, 3.66666667, 4.11111111, 4.55555556, 5.        ])"
      ]
     },
     "execution_count": 37,
     "metadata": {},
     "output_type": "execute_result"
    }
   ],
   "source": [
    "lnums"
   ]
  },
  {
   "cell_type": "code",
   "execution_count": 38,
   "id": "456e5dd9-a530-43bf-83d7-f376d81bdda3",
   "metadata": {},
   "outputs": [],
   "source": [
    "lnums = lnums.reshape(2,5)"
   ]
  },
  {
   "cell_type": "code",
   "execution_count": 39,
   "id": "f6412362-b58b-469b-b99b-2b494e3b2df0",
   "metadata": {},
   "outputs": [
    {
     "data": {
      "text/plain": [
       "array([[1.        , 1.44444444, 1.88888889, 2.33333333, 2.77777778],\n",
       "       [3.22222222, 3.66666667, 4.11111111, 4.55555556, 5.        ]])"
      ]
     },
     "execution_count": 39,
     "metadata": {},
     "output_type": "execute_result"
    }
   ],
   "source": [
    "lnums"
   ]
  },
  {
   "cell_type": "code",
   "execution_count": 40,
   "id": "b6b945f0-ccb6-413e-845d-bac7f2c73a5d",
   "metadata": {},
   "outputs": [
    {
     "data": {
      "text/plain": [
       "array([1.        , 1.44444444, 1.88888889, 2.33333333, 2.77777778,\n",
       "       3.22222222, 3.66666667, 4.11111111, 4.55555556, 5.        ])"
      ]
     },
     "execution_count": 40,
     "metadata": {},
     "output_type": "execute_result"
    }
   ],
   "source": [
    "lnums.ravel()"
   ]
  },
  {
   "cell_type": "code",
   "execution_count": 41,
   "id": "f14bd799-bf82-47a1-91e2-691082559423",
   "metadata": {},
   "outputs": [
    {
     "data": {
      "text/plain": [
       "array([[1.        , 1.44444444, 1.88888889, 2.33333333, 2.77777778],\n",
       "       [3.22222222, 3.66666667, 4.11111111, 4.55555556, 5.        ]])"
      ]
     },
     "execution_count": 41,
     "metadata": {},
     "output_type": "execute_result"
    }
   ],
   "source": [
    "lnums"
   ]
  },
  {
   "cell_type": "code",
   "execution_count": 42,
   "id": "66d504bc-b309-4940-ab37-42a198568016",
   "metadata": {},
   "outputs": [],
   "source": [
    "lnums = lnums.ravel()"
   ]
  },
  {
   "cell_type": "code",
   "execution_count": 43,
   "id": "9172028c-5d63-4d89-8683-a5d861ebcf4d",
   "metadata": {},
   "outputs": [
    {
     "data": {
      "text/plain": [
       "array([1.        , 1.44444444, 1.88888889, 2.33333333, 2.77777778,\n",
       "       3.22222222, 3.66666667, 4.11111111, 4.55555556, 5.        ])"
      ]
     },
     "execution_count": 43,
     "metadata": {},
     "output_type": "execute_result"
    }
   ],
   "source": [
    "lnums"
   ]
  },
  {
   "cell_type": "code",
   "execution_count": 44,
   "id": "10c64465-2f05-47d5-afe0-695b0bfcf222",
   "metadata": {},
   "outputs": [
    {
     "data": {
      "text/plain": [
       "(10,)"
      ]
     },
     "execution_count": 44,
     "metadata": {},
     "output_type": "execute_result"
    }
   ],
   "source": [
    "lnums.shape"
   ]
  },
  {
   "cell_type": "code",
   "execution_count": 45,
   "id": "73ff4ee7-39f7-432c-aebf-98ec4859cd82",
   "metadata": {},
   "outputs": [
    {
     "data": {
      "text/plain": [
       "10"
      ]
     },
     "execution_count": 45,
     "metadata": {},
     "output_type": "execute_result"
    }
   ],
   "source": [
    "lnums.size"
   ]
  },
  {
   "cell_type": "code",
   "execution_count": 46,
   "id": "074d00d1-f57e-4777-b85e-ce8602a30d88",
   "metadata": {},
   "outputs": [
    {
     "data": {
      "text/plain": [
       "array([[1.        , 1.44444444, 1.88888889, 2.33333333, 2.77777778],\n",
       "       [3.22222222, 3.66666667, 4.11111111, 4.55555556, 5.        ]])"
      ]
     },
     "execution_count": 46,
     "metadata": {},
     "output_type": "execute_result"
    }
   ],
   "source": [
    "lnums.reshape(2,5)"
   ]
  },
  {
   "cell_type": "code",
   "execution_count": 47,
   "id": "01f1c563-f97a-42b2-b6d0-0cc698d909a2",
   "metadata": {},
   "outputs": [],
   "source": [
    "lnums = lnums.reshape(2,5)"
   ]
  },
  {
   "cell_type": "code",
   "execution_count": 48,
   "id": "ca9b3a79-77c2-4728-8ac9-783ceff61916",
   "metadata": {},
   "outputs": [],
   "source": [
    "flat_lnums = lnums.reshape(-1)"
   ]
  },
  {
   "cell_type": "code",
   "execution_count": 49,
   "id": "a3ed8cfa-473e-463c-9e52-d4fe1880e97f",
   "metadata": {},
   "outputs": [
    {
     "data": {
      "text/plain": [
       "array([1.        , 1.44444444, 1.88888889, 2.33333333, 2.77777778,\n",
       "       3.22222222, 3.66666667, 4.11111111, 4.55555556, 5.        ])"
      ]
     },
     "execution_count": 49,
     "metadata": {},
     "output_type": "execute_result"
    }
   ],
   "source": [
    "flat_lnums"
   ]
  },
  {
   "cell_type": "code",
   "execution_count": 50,
   "id": "f538253f-d968-4192-b537-1ac20f90f72c",
   "metadata": {},
   "outputs": [
    {
     "data": {
      "text/plain": [
       "(10,)"
      ]
     },
     "execution_count": 50,
     "metadata": {},
     "output_type": "execute_result"
    }
   ],
   "source": [
    "flat_lnums.shape"
   ]
  },
  {
   "cell_type": "code",
   "execution_count": 51,
   "id": "0e58c39d-cd82-4182-a538-3d3d410ddfbb",
   "metadata": {},
   "outputs": [
    {
     "data": {
      "text/plain": [
       "(2, 5)"
      ]
     },
     "execution_count": 51,
     "metadata": {},
     "output_type": "execute_result"
    }
   ],
   "source": [
    "lnums.shape"
   ]
  },
  {
   "cell_type": "code",
   "execution_count": 52,
   "id": "42eafbcb-8a5a-41dc-823e-e438c5b5bc8d",
   "metadata": {},
   "outputs": [],
   "source": [
    "new_arr = np.array([[2,3,4],\n",
    "                    [5,3,6],\n",
    "                    [9,0,9]])"
   ]
  },
  {
   "cell_type": "code",
   "execution_count": 53,
   "id": "e226687b-0331-48eb-b084-8878d65680ed",
   "metadata": {},
   "outputs": [
    {
     "data": {
      "text/plain": [
       "array([[2, 3, 4],\n",
       "       [5, 3, 6],\n",
       "       [9, 0, 9]])"
      ]
     },
     "execution_count": 53,
     "metadata": {},
     "output_type": "execute_result"
    }
   ],
   "source": [
    "new_arr"
   ]
  },
  {
   "cell_type": "code",
   "execution_count": 54,
   "id": "bf87cede-c7ad-4227-885d-bec9fb8ac762",
   "metadata": {},
   "outputs": [
    {
     "data": {
      "text/plain": [
       "array([ 9, 14, 18])"
      ]
     },
     "execution_count": 54,
     "metadata": {},
     "output_type": "execute_result"
    }
   ],
   "source": [
    "new_arr.sum(axis =1)"
   ]
  },
  {
   "cell_type": "code",
   "execution_count": 55,
   "id": "cbda1a72-3f1a-4599-917d-4f203c7bcc47",
   "metadata": {},
   "outputs": [
    {
     "data": {
      "text/plain": [
       "array([16,  6, 19])"
      ]
     },
     "execution_count": 55,
     "metadata": {},
     "output_type": "execute_result"
    }
   ],
   "source": [
    "new_arr.sum(axis = 0)"
   ]
  },
  {
   "cell_type": "code",
   "execution_count": 56,
   "id": "c3cc2240-38c1-4330-b16c-ef421b32b303",
   "metadata": {},
   "outputs": [
    {
     "data": {
      "text/plain": [
       "np.int64(41)"
      ]
     },
     "execution_count": 56,
     "metadata": {},
     "output_type": "execute_result"
    }
   ],
   "source": [
    "new_arr.sum()"
   ]
  },
  {
   "cell_type": "code",
   "execution_count": 57,
   "id": "66e9f016-c4f5-4308-9123-a8d2e864f0b3",
   "metadata": {},
   "outputs": [
    {
     "name": "stdout",
     "output_type": "stream",
     "text": [
      "[2 3 4]\n",
      "[5 3 6]\n",
      "[9 0 9]\n"
     ]
    }
   ],
   "source": [
    "for i in new_arr:\n",
    "    print(i)"
   ]
  },
  {
   "cell_type": "code",
   "execution_count": 58,
   "id": "df4ba7ba-00e6-4b6d-a654-ceb5397343a9",
   "metadata": {},
   "outputs": [
    {
     "name": "stdout",
     "output_type": "stream",
     "text": [
      "2\n",
      "3\n",
      "4\n",
      "5\n",
      "3\n",
      "6\n",
      "9\n",
      "0\n",
      "9\n"
     ]
    }
   ],
   "source": [
    "for i in new_arr.ravel():\n",
    "    print(i)"
   ]
  },
  {
   "cell_type": "code",
   "execution_count": 59,
   "id": "3b437ff8-d809-4591-b63c-619c2eccabdc",
   "metadata": {},
   "outputs": [
    {
     "name": "stdout",
     "output_type": "stream",
     "text": [
      "2\n",
      "3\n",
      "4\n",
      "5\n",
      "3\n",
      "6\n",
      "9\n",
      "0\n",
      "9\n"
     ]
    }
   ],
   "source": [
    "for i in new_arr.flat:\n",
    "    print(i)"
   ]
  },
  {
   "cell_type": "code",
   "execution_count": 60,
   "id": "0c318c68-92bf-4eb6-9d09-bd4e80d8c372",
   "metadata": {},
   "outputs": [
    {
     "data": {
      "text/plain": [
       "array([[2, 3, 4],\n",
       "       [5, 3, 6],\n",
       "       [9, 0, 9]])"
      ]
     },
     "execution_count": 60,
     "metadata": {},
     "output_type": "execute_result"
    }
   ],
   "source": [
    "new_arr"
   ]
  },
  {
   "cell_type": "code",
   "execution_count": 61,
   "id": "9700fb97-12aa-45c7-be3f-599a83849a5e",
   "metadata": {},
   "outputs": [
    {
     "data": {
      "text/plain": [
       "<numpy.flatiter at 0x1ef145944a0>"
      ]
     },
     "execution_count": 61,
     "metadata": {},
     "output_type": "execute_result"
    }
   ],
   "source": [
    "new_arr.flat"
   ]
  },
  {
   "cell_type": "code",
   "execution_count": 62,
   "id": "3699a960-cc0c-4568-bebf-e31531ffa55d",
   "metadata": {},
   "outputs": [
    {
     "data": {
      "text/plain": [
       "dtype('int64')"
      ]
     },
     "execution_count": 62,
     "metadata": {},
     "output_type": "execute_result"
    }
   ],
   "source": [
    "new_arr.dtype"
   ]
  },
  {
   "cell_type": "code",
   "execution_count": 63,
   "id": "691211e1-02a3-4bfd-964f-07c5fa7049f1",
   "metadata": {},
   "outputs": [
    {
     "data": {
      "text/plain": [
       "2"
      ]
     },
     "execution_count": 63,
     "metadata": {},
     "output_type": "execute_result"
    }
   ],
   "source": [
    "new_arr.ndim"
   ]
  },
  {
   "cell_type": "code",
   "execution_count": 64,
   "id": "1d8ad733-d32a-4be3-8e94-627a86a5ec7a",
   "metadata": {},
   "outputs": [
    {
     "data": {
      "text/plain": [
       "9"
      ]
     },
     "execution_count": 64,
     "metadata": {},
     "output_type": "execute_result"
    }
   ],
   "source": [
    "new_arr.size"
   ]
  },
  {
   "cell_type": "code",
   "execution_count": 65,
   "id": "e9789414-e188-42e5-9765-d45bbf8f60da",
   "metadata": {},
   "outputs": [
    {
     "data": {
      "text/plain": [
       "8"
      ]
     },
     "execution_count": 65,
     "metadata": {},
     "output_type": "execute_result"
    }
   ],
   "source": [
    "new_arr.itemsize"
   ]
  },
  {
   "cell_type": "code",
   "execution_count": 66,
   "id": "d622b7e4-33ea-4718-ab31-29ad8a276a77",
   "metadata": {},
   "outputs": [
    {
     "data": {
      "text/plain": [
       "72"
      ]
     },
     "execution_count": 66,
     "metadata": {},
     "output_type": "execute_result"
    }
   ],
   "source": [
    "new_arr.nbytes"
   ]
  },
  {
   "cell_type": "code",
   "execution_count": 67,
   "id": "b08b6564-4a64-45b9-8320-5c3d1ee6b041",
   "metadata": {},
   "outputs": [
    {
     "data": {
      "text/plain": [
       "np.int64(6)"
      ]
     },
     "execution_count": 67,
     "metadata": {},
     "output_type": "execute_result"
    }
   ],
   "source": [
    "new_arr.argmax()"
   ]
  },
  {
   "cell_type": "code",
   "execution_count": 68,
   "id": "914752ea-aa21-4f55-8beb-dd833a57bc2c",
   "metadata": {},
   "outputs": [
    {
     "data": {
      "text/plain": [
       "np.int64(7)"
      ]
     },
     "execution_count": 68,
     "metadata": {},
     "output_type": "execute_result"
    }
   ],
   "source": [
    "new_arr.argmin()"
   ]
  },
  {
   "cell_type": "code",
   "execution_count": 69,
   "id": "251eaa6e-0a6f-4507-92fb-e9eca7a46c42",
   "metadata": {},
   "outputs": [
    {
     "data": {
      "text/plain": [
       "array([[2, 3, 4],\n",
       "       [5, 3, 6],\n",
       "       [9, 0, 9]])"
      ]
     },
     "execution_count": 69,
     "metadata": {},
     "output_type": "execute_result"
    }
   ],
   "source": [
    "new_arr"
   ]
  },
  {
   "cell_type": "code",
   "execution_count": 70,
   "id": "762fbb16-d41e-4457-b8ba-3fd2dc6f7b4d",
   "metadata": {},
   "outputs": [
    {
     "data": {
      "text/plain": [
       "'2.1.1'"
      ]
     },
     "execution_count": 70,
     "metadata": {},
     "output_type": "execute_result"
    }
   ],
   "source": [
    "np.__version__"
   ]
  },
  {
   "cell_type": "code",
   "execution_count": 71,
   "id": "47bf9f8f-a454-4137-bf93-f11b53dddc3d",
   "metadata": {},
   "outputs": [
    {
     "data": {
      "text/plain": [
       "array([7, 0, 4, 1, 2, 3, 5, 6, 8])"
      ]
     },
     "execution_count": 71,
     "metadata": {},
     "output_type": "execute_result"
    }
   ],
   "source": [
    "new_arr.argsort(axis = None)"
   ]
  },
  {
   "cell_type": "code",
   "execution_count": 72,
   "id": "bb7582a4-7a6c-4f58-a6ff-1394ce262ec3",
   "metadata": {},
   "outputs": [
    {
     "data": {
      "text/plain": [
       "array([[0, 1, 2],\n",
       "       [1, 0, 2],\n",
       "       [1, 0, 2]])"
      ]
     },
     "execution_count": 72,
     "metadata": {},
     "output_type": "execute_result"
    }
   ],
   "source": [
    "new_arr.argsort()"
   ]
  },
  {
   "cell_type": "code",
   "execution_count": 73,
   "id": "453b3d6d-676f-4a0d-948c-bde1fe85dd2d",
   "metadata": {},
   "outputs": [
    {
     "data": {
      "text/plain": [
       "array([[0, 1, 2],\n",
       "       [1, 0, 2],\n",
       "       [1, 0, 2]])"
      ]
     },
     "execution_count": 73,
     "metadata": {},
     "output_type": "execute_result"
    }
   ],
   "source": [
    "new_arr.argsort(axis=1)"
   ]
  },
  {
   "cell_type": "code",
   "execution_count": 74,
   "id": "d433f8cf-b561-4681-b539-8afcbb968bfd",
   "metadata": {},
   "outputs": [
    {
     "data": {
      "text/plain": [
       "array([[0, 2, 0],\n",
       "       [1, 0, 1],\n",
       "       [2, 1, 2]])"
      ]
     },
     "execution_count": 74,
     "metadata": {},
     "output_type": "execute_result"
    }
   ],
   "source": [
    "new_arr.argsort(axis =0)"
   ]
  },
  {
   "cell_type": "code",
   "execution_count": 75,
   "id": "598e7000-4586-4927-9e37-9e3954bb4d3c",
   "metadata": {},
   "outputs": [],
   "source": [
    "na = np.array([3,5,2,5])"
   ]
  },
  {
   "cell_type": "code",
   "execution_count": 76,
   "id": "c443bf6d-6a5a-4713-8233-57964243a96b",
   "metadata": {},
   "outputs": [
    {
     "data": {
      "text/plain": [
       "array([3, 5, 2, 5])"
      ]
     },
     "execution_count": 76,
     "metadata": {},
     "output_type": "execute_result"
    }
   ],
   "source": [
    "na"
   ]
  },
  {
   "cell_type": "code",
   "execution_count": 77,
   "id": "ce48d060-5717-4760-9536-17c02ca0ffb5",
   "metadata": {},
   "outputs": [
    {
     "data": {
      "text/plain": [
       "array([2, 0, 1, 3])"
      ]
     },
     "execution_count": 77,
     "metadata": {},
     "output_type": "execute_result"
    }
   ],
   "source": [
    "na.argsort(axis = 0)"
   ]
  },
  {
   "cell_type": "code",
   "execution_count": 78,
   "id": "909c643d-e1f6-41f6-8df3-3999beee989c",
   "metadata": {},
   "outputs": [
    {
     "data": {
      "text/plain": [
       "array([[2, 3, 4],\n",
       "       [5, 3, 6],\n",
       "       [9, 0, 9]])"
      ]
     },
     "execution_count": 78,
     "metadata": {},
     "output_type": "execute_result"
    }
   ],
   "source": [
    "new_arr"
   ]
  },
  {
   "cell_type": "code",
   "execution_count": 79,
   "id": "f6953027-05ee-489f-8515-dcf113173a7d",
   "metadata": {},
   "outputs": [
    {
     "data": {
      "text/plain": [
       "2"
      ]
     },
     "execution_count": 79,
     "metadata": {},
     "output_type": "execute_result"
    }
   ],
   "source": [
    "new_arr.ndim"
   ]
  },
  {
   "cell_type": "code",
   "execution_count": 80,
   "id": "fcd6aee5-9d08-44c5-97eb-f6650d5ead4a",
   "metadata": {},
   "outputs": [
    {
     "data": {
      "text/plain": [
       "72"
      ]
     },
     "execution_count": 80,
     "metadata": {},
     "output_type": "execute_result"
    }
   ],
   "source": [
    "new_arr.nbytes"
   ]
  },
  {
   "cell_type": "code",
   "execution_count": 81,
   "id": "4e830783-8e83-49a0-b0a1-5c1b15b9d5cd",
   "metadata": {},
   "outputs": [
    {
     "data": {
      "text/plain": [
       "array([[0, 1, 2],\n",
       "       [1, 0, 2],\n",
       "       [1, 0, 2]])"
      ]
     },
     "execution_count": 81,
     "metadata": {},
     "output_type": "execute_result"
    }
   ],
   "source": [
    "new_arr.argsort()"
   ]
  },
  {
   "cell_type": "code",
   "execution_count": 82,
   "id": "2773d4ec-478f-4094-a69d-7863886a0f0b",
   "metadata": {},
   "outputs": [],
   "source": [
    "new_zeros = np.zeros([2,4])"
   ]
  },
  {
   "cell_type": "code",
   "execution_count": 83,
   "id": "6f2c2aff-fbb5-4196-b108-9e4aaa45bc68",
   "metadata": {},
   "outputs": [
    {
     "data": {
      "text/plain": [
       "array([[0., 0., 0., 0.],\n",
       "       [0., 0., 0., 0.]])"
      ]
     },
     "execution_count": 83,
     "metadata": {},
     "output_type": "execute_result"
    }
   ],
   "source": [
    "new_zeros"
   ]
  },
  {
   "cell_type": "code",
   "execution_count": 84,
   "id": "6031bf83-fca2-40cf-b095-afe123633356",
   "metadata": {},
   "outputs": [
    {
     "data": {
      "text/plain": [
       "np.int64(6)"
      ]
     },
     "execution_count": 84,
     "metadata": {},
     "output_type": "execute_result"
    }
   ],
   "source": [
    "new_arr.argmax()"
   ]
  },
  {
   "cell_type": "code",
   "execution_count": 85,
   "id": "d7966ae6-413f-405e-b80c-57de12bbd4a5",
   "metadata": {},
   "outputs": [],
   "source": [
    "kmv_arr = np.array([[23,22,21],[44,55,66]])"
   ]
  },
  {
   "cell_type": "code",
   "execution_count": 86,
   "id": "66fbd286-9018-4b5e-b50a-f27c964d8692",
   "metadata": {},
   "outputs": [
    {
     "data": {
      "text/plain": [
       "array([[23, 22, 21],\n",
       "       [44, 55, 66]])"
      ]
     },
     "execution_count": 86,
     "metadata": {},
     "output_type": "execute_result"
    }
   ],
   "source": [
    "kmv_arr"
   ]
  },
  {
   "cell_type": "code",
   "execution_count": 87,
   "id": "7fc454bb-1aeb-4e04-bc6d-77dde2890149",
   "metadata": {},
   "outputs": [
    {
     "data": {
      "text/plain": [
       "array([[2, 1, 0],\n",
       "       [0, 1, 2]])"
      ]
     },
     "execution_count": 87,
     "metadata": {},
     "output_type": "execute_result"
    }
   ],
   "source": [
    "kmv_arr.argsort()"
   ]
  },
  {
   "cell_type": "code",
   "execution_count": 88,
   "id": "4ef6de7f-96ec-47dc-a774-57a53c3a0466",
   "metadata": {},
   "outputs": [
    {
     "data": {
      "text/plain": [
       "np.int64(2)"
      ]
     },
     "execution_count": 88,
     "metadata": {},
     "output_type": "execute_result"
    }
   ],
   "source": [
    "kmv_arr.argmin()"
   ]
  },
  {
   "cell_type": "code",
   "execution_count": 89,
   "id": "dd5aebfc-c418-4e2d-ba56-04e7cde8a693",
   "metadata": {},
   "outputs": [
    {
     "data": {
      "text/plain": [
       "array([0, 0, 0])"
      ]
     },
     "execution_count": 89,
     "metadata": {},
     "output_type": "execute_result"
    }
   ],
   "source": [
    "kmv_arr.argmin(axis=0)"
   ]
  },
  {
   "cell_type": "code",
   "execution_count": 90,
   "id": "13286410-8dce-49a6-aa97-986f43e66b1a",
   "metadata": {},
   "outputs": [
    {
     "data": {
      "text/plain": [
       "array([2, 0])"
      ]
     },
     "execution_count": 90,
     "metadata": {},
     "output_type": "execute_result"
    }
   ],
   "source": [
    "kmv_arr.argmin(axis=1)"
   ]
  },
  {
   "cell_type": "code",
   "execution_count": 91,
   "id": "5513d272-dbca-4b8f-aa47-45a45a895553",
   "metadata": {},
   "outputs": [
    {
     "data": {
      "text/plain": [
       "np.int64(5)"
      ]
     },
     "execution_count": 91,
     "metadata": {},
     "output_type": "execute_result"
    }
   ],
   "source": [
    "kmv_arr.argmax()\n"
   ]
  },
  {
   "cell_type": "code",
   "execution_count": 92,
   "id": "bd636b8a-4f39-4127-a121-d052a5fee919",
   "metadata": {},
   "outputs": [
    {
     "data": {
      "text/plain": [
       "array([0, 2])"
      ]
     },
     "execution_count": 92,
     "metadata": {},
     "output_type": "execute_result"
    }
   ],
   "source": [
    "kmv_arr.argmax(axis=1)"
   ]
  },
  {
   "cell_type": "code",
   "execution_count": 93,
   "id": "9e4a5a54-f11b-4bbb-aa01-354343f0bf15",
   "metadata": {},
   "outputs": [
    {
     "data": {
      "text/plain": [
       "np.int64(231)"
      ]
     },
     "execution_count": 93,
     "metadata": {},
     "output_type": "execute_result"
    }
   ],
   "source": [
    "kmv_arr.sum()"
   ]
  },
  {
   "cell_type": "code",
   "execution_count": 94,
   "id": "85146aed-30d7-408f-9473-e3711214c3ce",
   "metadata": {},
   "outputs": [
    {
     "data": {
      "text/plain": [
       "array([ 66, 165])"
      ]
     },
     "execution_count": 94,
     "metadata": {},
     "output_type": "execute_result"
    }
   ],
   "source": [
    "kmv_arr.sum(axis=1)"
   ]
  },
  {
   "cell_type": "code",
   "execution_count": 95,
   "id": "670cda4c-3ac7-406c-8507-361f286c0130",
   "metadata": {},
   "outputs": [
    {
     "data": {
      "text/plain": [
       "array([67, 77, 87])"
      ]
     },
     "execution_count": 95,
     "metadata": {},
     "output_type": "execute_result"
    }
   ],
   "source": [
    "kmv_arr.sum(axis =0)"
   ]
  },
  {
   "cell_type": "code",
   "execution_count": 96,
   "id": "a3936c12-f1b4-4290-b63d-f63a3ded54f2",
   "metadata": {},
   "outputs": [
    {
     "data": {
      "text/plain": [
       "array([67, 77, 87])"
      ]
     },
     "execution_count": 96,
     "metadata": {},
     "output_type": "execute_result"
    }
   ],
   "source": [
    "kmv_arr.sum(0)"
   ]
  },
  {
   "cell_type": "code",
   "execution_count": 97,
   "id": "8f814594-190d-4a9f-85d3-32ca76246087",
   "metadata": {},
   "outputs": [],
   "source": [
    "kmv_arr2 = np.array([[2,2,2],\n",
    "                    [1,2,1]])"
   ]
  },
  {
   "cell_type": "code",
   "execution_count": 98,
   "id": "20361e3e-6fc7-4ac1-ab6c-c52da5cdfe10",
   "metadata": {},
   "outputs": [
    {
     "data": {
      "text/plain": [
       "array([[23, 22, 21],\n",
       "       [44, 55, 66]])"
      ]
     },
     "execution_count": 98,
     "metadata": {},
     "output_type": "execute_result"
    }
   ],
   "source": [
    "kmv_arr"
   ]
  },
  {
   "cell_type": "code",
   "execution_count": 99,
   "id": "2add5fc0-7620-4a23-94c8-3509eb654298",
   "metadata": {},
   "outputs": [
    {
     "data": {
      "text/plain": [
       "array([[2, 2, 2],\n",
       "       [1, 2, 1]])"
      ]
     },
     "execution_count": 99,
     "metadata": {},
     "output_type": "execute_result"
    }
   ],
   "source": [
    "kmv_arr2"
   ]
  },
  {
   "cell_type": "code",
   "execution_count": 100,
   "id": "937f92c0-a5d7-449a-bb23-f252ad50b4aa",
   "metadata": {},
   "outputs": [
    {
     "data": {
      "text/plain": [
       "array([[25, 24, 23],\n",
       "       [45, 57, 67]])"
      ]
     },
     "execution_count": 100,
     "metadata": {},
     "output_type": "execute_result"
    }
   ],
   "source": [
    "kmv_arr + kmv_arr2"
   ]
  },
  {
   "cell_type": "code",
   "execution_count": 101,
   "id": "c7aadb40-88fb-4d71-95b3-ad372a9734a7",
   "metadata": {},
   "outputs": [
    {
     "data": {
      "text/plain": [
       "array([[False, False, False],\n",
       "       [False, False, False]])"
      ]
     },
     "execution_count": 101,
     "metadata": {},
     "output_type": "execute_result"
    }
   ],
   "source": [
    "kmv_arr == kmv_arr2"
   ]
  },
  {
   "cell_type": "code",
   "execution_count": 102,
   "id": "45ff7a72-e00b-4f7e-8623-460892d52660",
   "metadata": {},
   "outputs": [
    {
     "data": {
      "text/plain": [
       "array([[23, 22],\n",
       "       [21, 44],\n",
       "       [55, 66]])"
      ]
     },
     "execution_count": 102,
     "metadata": {},
     "output_type": "execute_result"
    }
   ],
   "source": [
    "kmv_arr.reshape(3,2)"
   ]
  },
  {
   "cell_type": "code",
   "execution_count": 103,
   "id": "138a2490-177e-4532-8267-9d94b2c70e4c",
   "metadata": {},
   "outputs": [],
   "source": [
    "kmv_arr = kmv_arr.reshape(3,2)"
   ]
  },
  {
   "cell_type": "code",
   "execution_count": 104,
   "id": "79930725-e2c4-4184-80ee-5e1de249a6a0",
   "metadata": {},
   "outputs": [
    {
     "data": {
      "text/plain": [
       "array([23, 22, 21, 44, 55, 66])"
      ]
     },
     "execution_count": 104,
     "metadata": {},
     "output_type": "execute_result"
    }
   ],
   "source": [
    "kmv_arr.ravel()"
   ]
  },
  {
   "cell_type": "code",
   "execution_count": 105,
   "id": "c380c319-6b4d-4418-957a-c975389ee76d",
   "metadata": {},
   "outputs": [
    {
     "data": {
      "text/plain": [
       "array([[23, 22],\n",
       "       [21, 44],\n",
       "       [55, 66]])"
      ]
     },
     "execution_count": 105,
     "metadata": {},
     "output_type": "execute_result"
    }
   ],
   "source": [
    "kmv_arr"
   ]
  },
  {
   "cell_type": "code",
   "execution_count": 106,
   "id": "afed3c10-2be4-414d-87c7-8ea7825552f6",
   "metadata": {},
   "outputs": [],
   "source": [
    "kmv_arr = kmv_arr.ravel()"
   ]
  },
  {
   "cell_type": "code",
   "execution_count": 107,
   "id": "b473b957-4b03-42d8-aa89-7aca4db65cf5",
   "metadata": {},
   "outputs": [
    {
     "data": {
      "text/plain": [
       "array([23, 22, 21, 44, 55, 66])"
      ]
     },
     "execution_count": 107,
     "metadata": {},
     "output_type": "execute_result"
    }
   ],
   "source": [
    "kmv_arr"
   ]
  },
  {
   "cell_type": "code",
   "execution_count": 108,
   "id": "48779888-ab76-4fec-ba8e-b86629fe4b5a",
   "metadata": {},
   "outputs": [
    {
     "data": {
      "text/plain": [
       "array([[23, 22, 21],\n",
       "       [44, 55, 66]])"
      ]
     },
     "execution_count": 108,
     "metadata": {},
     "output_type": "execute_result"
    }
   ],
   "source": [
    "kmv_arr.reshape(2,3)"
   ]
  },
  {
   "cell_type": "code",
   "execution_count": 109,
   "id": "d335b4d3-70d4-4117-8c25-48aacef83629",
   "metadata": {},
   "outputs": [],
   "source": [
    "kmv_arr = kmv_arr.reshape(kmv_arr2.shape)"
   ]
  },
  {
   "cell_type": "code",
   "execution_count": 110,
   "id": "bd70a43e-77ea-4256-9d0d-80f035c1e3b4",
   "metadata": {},
   "outputs": [
    {
     "data": {
      "text/plain": [
       "array([[23, 22, 21],\n",
       "       [44, 55, 66]])"
      ]
     },
     "execution_count": 110,
     "metadata": {},
     "output_type": "execute_result"
    }
   ],
   "source": [
    "kmv_arr"
   ]
  },
  {
   "cell_type": "code",
   "execution_count": 111,
   "id": "064f6598-3907-4a7e-9f5c-ea85e26889f9",
   "metadata": {},
   "outputs": [
    {
     "data": {
      "text/plain": [
       "array([[2, 2, 2],\n",
       "       [1, 2, 1]])"
      ]
     },
     "execution_count": 111,
     "metadata": {},
     "output_type": "execute_result"
    }
   ],
   "source": [
    "kmv_arr2"
   ]
  },
  {
   "cell_type": "code",
   "execution_count": 112,
   "id": "76017021-80bd-4034-96e4-79209a3a3220",
   "metadata": {},
   "outputs": [
    {
     "data": {
      "text/plain": [
       "array([[ 46,  44,  42],\n",
       "       [ 44, 110,  66]])"
      ]
     },
     "execution_count": 112,
     "metadata": {},
     "output_type": "execute_result"
    }
   ],
   "source": [
    "kmv_arr*kmv_arr2"
   ]
  },
  {
   "cell_type": "code",
   "execution_count": 113,
   "id": "3f22262d-e22b-4748-b93e-da16f35c4536",
   "metadata": {},
   "outputs": [
    {
     "data": {
      "text/plain": [
       "array([[4.79583152, 4.69041576, 4.58257569],\n",
       "       [6.63324958, 7.41619849, 8.1240384 ]])"
      ]
     },
     "execution_count": 113,
     "metadata": {},
     "output_type": "execute_result"
    }
   ],
   "source": [
    "np.sqrt(kmv_arr)"
   ]
  },
  {
   "cell_type": "code",
   "execution_count": 114,
   "id": "e539ba25-6e34-43aa-923f-aba99660260e",
   "metadata": {},
   "outputs": [
    {
     "data": {
      "text/plain": [
       "np.int64(21)"
      ]
     },
     "execution_count": 114,
     "metadata": {},
     "output_type": "execute_result"
    }
   ],
   "source": [
    "kmv_arr.min()\n"
   ]
  },
  {
   "cell_type": "code",
   "execution_count": 115,
   "id": "a74057e9-e6f1-420f-9a77-835fd9dda718",
   "metadata": {},
   "outputs": [
    {
     "data": {
      "text/plain": [
       "array([21, 44])"
      ]
     },
     "execution_count": 115,
     "metadata": {},
     "output_type": "execute_result"
    }
   ],
   "source": [
    "kmv_arr.min(axis=1)"
   ]
  },
  {
   "cell_type": "code",
   "execution_count": 116,
   "id": "9d6293bb-ff22-4210-864d-b4deabd3ff1f",
   "metadata": {},
   "outputs": [
    {
     "data": {
      "text/plain": [
       "array([23, 22, 21])"
      ]
     },
     "execution_count": 116,
     "metadata": {},
     "output_type": "execute_result"
    }
   ],
   "source": [
    "kmv_arr.min(axis = 0)"
   ]
  },
  {
   "cell_type": "code",
   "execution_count": 117,
   "id": "16e8b800-f755-4a6e-ae89-43215e3c097f",
   "metadata": {},
   "outputs": [],
   "source": [
    "kmv_arr.sort()"
   ]
  },
  {
   "cell_type": "code",
   "execution_count": 118,
   "id": "152e6af9-86f4-4d2c-881f-2d031b205a52",
   "metadata": {},
   "outputs": [
    {
     "data": {
      "text/plain": [
       "array([[21, 22, 23],\n",
       "       [44, 55, 66]])"
      ]
     },
     "execution_count": 118,
     "metadata": {},
     "output_type": "execute_result"
    }
   ],
   "source": [
    "kmv_arr"
   ]
  },
  {
   "cell_type": "code",
   "execution_count": 119,
   "id": "5ee84e8b-4536-47e5-b50c-044d0090642e",
   "metadata": {},
   "outputs": [],
   "source": [
    "kmv_arr.sort(axis= 0)"
   ]
  },
  {
   "cell_type": "code",
   "execution_count": 120,
   "id": "e5d7336e-fb2d-4e80-8b6f-79b8ac0a584e",
   "metadata": {},
   "outputs": [
    {
     "data": {
      "text/plain": [
       "array([[21, 22, 23],\n",
       "       [44, 55, 66]])"
      ]
     },
     "execution_count": 120,
     "metadata": {},
     "output_type": "execute_result"
    }
   ],
   "source": [
    "kmv_arr"
   ]
  },
  {
   "cell_type": "code",
   "execution_count": 121,
   "id": "e24496ce-e7f8-4241-82ff-a0007f85d840",
   "metadata": {},
   "outputs": [],
   "source": [
    "kmv_arr.sort(axis=1)"
   ]
  },
  {
   "cell_type": "code",
   "execution_count": 122,
   "id": "d5b78c78-a6fa-4bca-bfb9-91803aa1e646",
   "metadata": {},
   "outputs": [
    {
     "data": {
      "text/plain": [
       "array([[21, 22, 23],\n",
       "       [44, 55, 66]])"
      ]
     },
     "execution_count": 122,
     "metadata": {},
     "output_type": "execute_result"
    }
   ],
   "source": [
    "kmv_arr"
   ]
  },
  {
   "cell_type": "code",
   "execution_count": 123,
   "id": "3eb8cbe6-b2a6-4e6f-872d-4efedd5f0034",
   "metadata": {},
   "outputs": [
    {
     "data": {
      "text/plain": [
       "array([[21, 22, 23],\n",
       "       [44, 55, 66]])"
      ]
     },
     "execution_count": 123,
     "metadata": {},
     "output_type": "execute_result"
    }
   ],
   "source": [
    "kmv_arr"
   ]
  },
  {
   "cell_type": "code",
   "execution_count": 124,
   "id": "cc20b14a-a2d0-4f59-90a4-f297dd9e4c8e",
   "metadata": {},
   "outputs": [
    {
     "data": {
      "text/plain": [
       "(array([0, 0, 0, 1, 1, 1]), array([0, 1, 2, 0, 1, 2]))"
      ]
     },
     "execution_count": 124,
     "metadata": {},
     "output_type": "execute_result"
    }
   ],
   "source": [
    "np.where(kmv_arr<70)"
   ]
  },
  {
   "cell_type": "code",
   "execution_count": 125,
   "id": "5d27076d-a53f-4639-bf27-8bb4f06f2ecf",
   "metadata": {},
   "outputs": [
    {
     "data": {
      "text/plain": [
       "array([[21, 22, 23],\n",
       "       [44, 55, 66]])"
      ]
     },
     "execution_count": 125,
     "metadata": {},
     "output_type": "execute_result"
    }
   ],
   "source": [
    "kmv_arr"
   ]
  },
  {
   "cell_type": "code",
   "execution_count": 126,
   "id": "df18e82a-2b75-43a7-90e4-f069d8b5a54e",
   "metadata": {},
   "outputs": [
    {
     "data": {
      "text/plain": [
       "6"
      ]
     },
     "execution_count": 126,
     "metadata": {},
     "output_type": "execute_result"
    }
   ],
   "source": [
    "np.count_nonzero(kmv_arr)"
   ]
  },
  {
   "cell_type": "code",
   "execution_count": 127,
   "id": "f6af6853-710b-49be-9b3a-fb539fa5e08b",
   "metadata": {},
   "outputs": [
    {
     "data": {
      "text/plain": [
       "(array([0, 0, 0, 1, 1, 1]), array([0, 1, 2, 0, 1, 2]))"
      ]
     },
     "execution_count": 127,
     "metadata": {},
     "output_type": "execute_result"
    }
   ],
   "source": [
    "np.nonzero(kmv_arr)"
   ]
  },
  {
   "cell_type": "markdown",
   "id": "e5908b35-6fee-48ff-b6b7-1f6061de189a",
   "metadata": {},
   "source": [
    "kmv_arr[1,2] ==0"
   ]
  },
  {
   "cell_type": "code",
   "execution_count": 128,
   "id": "60ec08fc-36b0-4bcf-ac28-98c49d7ae73e",
   "metadata": {},
   "outputs": [
    {
     "data": {
      "text/plain": [
       "array([[21, 22, 23],\n",
       "       [44, 55, 66]])"
      ]
     },
     "execution_count": 128,
     "metadata": {},
     "output_type": "execute_result"
    }
   ],
   "source": [
    "kmv_arr"
   ]
  },
  {
   "cell_type": "code",
   "execution_count": 129,
   "id": "69a10bbb-403b-4f22-bd82-150413c6f71a",
   "metadata": {},
   "outputs": [
    {
     "data": {
      "text/plain": [
       "(array([0, 0, 0, 1, 1, 1]), array([0, 1, 2, 0, 1, 2]))"
      ]
     },
     "execution_count": 129,
     "metadata": {},
     "output_type": "execute_result"
    }
   ],
   "source": [
    "np.nonzero(kmv_arr)"
   ]
  },
  {
   "cell_type": "code",
   "execution_count": 130,
   "id": "ced44bd1-fb3c-4cbf-a794-87ba8e83b479",
   "metadata": {},
   "outputs": [],
   "source": [
    "import sys\n"
   ]
  },
  {
   "cell_type": "code",
   "execution_count": 131,
   "id": "1098a4a7-cda3-4108-a867-9022fab453a4",
   "metadata": {},
   "outputs": [],
   "source": [
    "py_ar = [2,3,5,6]"
   ]
  },
  {
   "cell_type": "code",
   "execution_count": 132,
   "id": "6ee9e9dd-dddf-43e9-88ed-679ec716f014",
   "metadata": {},
   "outputs": [],
   "source": [
    "np_ar = np.array(py_ar)"
   ]
  },
  {
   "cell_type": "code",
   "execution_count": 133,
   "id": "40a711d0-877a-456d-adfc-5938dbce23e6",
   "metadata": {},
   "outputs": [
    {
     "data": {
      "text/plain": [
       "array([2, 3, 5, 6])"
      ]
     },
     "execution_count": 133,
     "metadata": {},
     "output_type": "execute_result"
    }
   ],
   "source": [
    "np_ar"
   ]
  },
  {
   "cell_type": "code",
   "execution_count": 134,
   "id": "86c6f07e-42a2-4569-a9f6-b22eee16bae0",
   "metadata": {},
   "outputs": [
    {
     "data": {
      "text/plain": [
       "88"
      ]
     },
     "execution_count": 134,
     "metadata": {},
     "output_type": "execute_result"
    }
   ],
   "source": [
    "sys.getsizeof(py_ar)"
   ]
  },
  {
   "cell_type": "code",
   "execution_count": 135,
   "id": "688429e3-632a-4d23-b2d5-9ed162851b8c",
   "metadata": {},
   "outputs": [
    {
     "data": {
      "text/plain": [
       "144"
      ]
     },
     "execution_count": 135,
     "metadata": {},
     "output_type": "execute_result"
    }
   ],
   "source": [
    "sys.getsizeof(np_ar)"
   ]
  },
  {
   "cell_type": "code",
   "execution_count": 136,
   "id": "5de37e70-f9cf-4d20-adcf-82d1d88dd755",
   "metadata": {},
   "outputs": [
    {
     "data": {
      "text/plain": [
       "32"
      ]
     },
     "execution_count": 136,
     "metadata": {},
     "output_type": "execute_result"
    }
   ],
   "source": [
    "np_ar.nbytes"
   ]
  },
  {
   "cell_type": "code",
   "execution_count": 137,
   "id": "d84b342d-5550-4761-b348-3855b32412f1",
   "metadata": {},
   "outputs": [
    {
     "data": {
      "text/plain": [
       "8"
      ]
     },
     "execution_count": 137,
     "metadata": {},
     "output_type": "execute_result"
    }
   ],
   "source": [
    "np_ar.itemsize"
   ]
  },
  {
   "cell_type": "code",
   "execution_count": 138,
   "id": "91ab94e1-c3c7-47ab-bd22-76aa7ac67e61",
   "metadata": {},
   "outputs": [
    {
     "data": {
      "text/plain": [
       "32"
      ]
     },
     "execution_count": 138,
     "metadata": {},
     "output_type": "execute_result"
    }
   ],
   "source": [
    "np_ar.itemsize * np_ar.size"
   ]
  },
  {
   "cell_type": "code",
   "execution_count": 139,
   "id": "8efe5548-1562-4ce7-b7aa-a28c5fa63020",
   "metadata": {},
   "outputs": [
    {
     "data": {
      "text/plain": [
       "array([[21, 44],\n",
       "       [22, 55],\n",
       "       [23, 66]])"
      ]
     },
     "execution_count": 139,
     "metadata": {},
     "output_type": "execute_result"
    }
   ],
   "source": [
    "kmv_arr.T"
   ]
  },
  {
   "cell_type": "code",
   "execution_count": 140,
   "id": "822097fc-6061-4a5d-808b-e7d547573547",
   "metadata": {},
   "outputs": [
    {
     "data": {
      "text/plain": [
       "array([[21, 22, 23],\n",
       "       [44, 55, 66]])"
      ]
     },
     "execution_count": 140,
     "metadata": {},
     "output_type": "execute_result"
    }
   ],
   "source": [
    "kmv_arr"
   ]
  },
  {
   "cell_type": "code",
   "execution_count": 141,
   "id": "012635d0-d8d9-470a-9548-915cffdde6ef",
   "metadata": {},
   "outputs": [
    {
     "data": {
      "text/plain": [
       "[[21, 22, 23], [44, 55, 66]]"
      ]
     },
     "execution_count": 141,
     "metadata": {},
     "output_type": "execute_result"
    }
   ],
   "source": [
    "kmv_arr.tolist()"
   ]
  },
  {
   "cell_type": "code",
   "execution_count": 142,
   "id": "b4cb866f-c3dd-4665-9ba7-1cec92e564b0",
   "metadata": {},
   "outputs": [
    {
     "data": {
      "text/plain": [
       "numpy.ndarray"
      ]
     },
     "execution_count": 142,
     "metadata": {},
     "output_type": "execute_result"
    }
   ],
   "source": [
    "type(kmv_arr)"
   ]
  },
  {
   "cell_type": "code",
   "execution_count": 143,
   "id": "f349a5eb-6d58-402a-9251-48dd6533374b",
   "metadata": {},
   "outputs": [
    {
     "data": {
      "text/plain": [
       "list"
      ]
     },
     "execution_count": 143,
     "metadata": {},
     "output_type": "execute_result"
    }
   ],
   "source": [
    "type(kmv_arr.tolist())"
   ]
  },
  {
   "cell_type": "code",
   "execution_count": 144,
   "id": "8913917b-041f-4790-8c1e-20dec184964d",
   "metadata": {},
   "outputs": [
    {
     "data": {
      "text/plain": [
       "array([[1., 1., 1., 1., 1., 1.],\n",
       "       [1., 1., 1., 1., 1., 1.]])"
      ]
     },
     "execution_count": 144,
     "metadata": {},
     "output_type": "execute_result"
    }
   ],
   "source": [
    "ar2 = np.ones((2,6))\n",
    "ar2"
   ]
  },
  {
   "cell_type": "code",
   "execution_count": 145,
   "id": "79d5d5c9-0eda-4e62-947a-34f363d3ad66",
   "metadata": {},
   "outputs": [],
   "source": [
    "ar3 = np.arange(10,100,2)"
   ]
  },
  {
   "cell_type": "code",
   "execution_count": 146,
   "id": "83ae9c5d-ced5-4a3c-9206-8302ac909d56",
   "metadata": {},
   "outputs": [
    {
     "data": {
      "text/plain": [
       "array([10, 12, 14, 16, 18, 20, 22, 24, 26, 28, 30, 32, 34, 36, 38, 40, 42,\n",
       "       44, 46, 48, 50, 52, 54, 56, 58, 60, 62, 64, 66, 68, 70, 72, 74, 76,\n",
       "       78, 80, 82, 84, 86, 88, 90, 92, 94, 96, 98])"
      ]
     },
     "execution_count": 146,
     "metadata": {},
     "output_type": "execute_result"
    }
   ],
   "source": [
    "ar3"
   ]
  },
  {
   "cell_type": "code",
   "execution_count": 147,
   "id": "1b2bbded-546d-45c8-97e8-7e8eea62119f",
   "metadata": {},
   "outputs": [
    {
     "data": {
      "text/plain": [
       "dtype('int64')"
      ]
     },
     "execution_count": 147,
     "metadata": {},
     "output_type": "execute_result"
    }
   ],
   "source": [
    "ar3.dtype"
   ]
  },
  {
   "cell_type": "code",
   "execution_count": 148,
   "id": "8b3c7702-49f7-4fd8-8c3f-bc00b42a8cd3",
   "metadata": {},
   "outputs": [
    {
     "data": {
      "text/plain": [
       "array([10, 12, 14, 16, 18, 20, 22, 24, 26, 28, 30, 32, 34, 36, 38, 40, 42,\n",
       "       44, 46, 48, 50, 52, 54, 56, 58, 60, 62, 64, 66, 68, 70, 72, 74, 76,\n",
       "       78, 80, 82, 84, 86, 88, 90, 92, 94, 96, 98])"
      ]
     },
     "execution_count": 148,
     "metadata": {},
     "output_type": "execute_result"
    }
   ],
   "source": [
    "ar4 = ar3.copy()\n",
    "ar4"
   ]
  },
  {
   "cell_type": "code",
   "execution_count": 149,
   "id": "49d7d8aa-2660-4175-a462-6dee786dcffa",
   "metadata": {},
   "outputs": [
    {
     "data": {
      "text/plain": [
       "array([10, 12, 14, 16, 18, 20, 22, 24, 26, 28, 50, 32, 34, 36, 38, 40, 42,\n",
       "       44, 46, 48, 50, 52, 54, 56, 58, 60, 62, 64, 66, 68, 70, 72, 74, 76,\n",
       "       78, 80, 82, 84, 86, 88, 90, 92, 94, 96, 98])"
      ]
     },
     "execution_count": 149,
     "metadata": {},
     "output_type": "execute_result"
    }
   ],
   "source": [
    "ar4[10] = 50\n",
    "ar4"
   ]
  },
  {
   "cell_type": "code",
   "execution_count": 150,
   "id": "1d0118a9-1f8f-4a90-8f25-4a80e7947b88",
   "metadata": {},
   "outputs": [
    {
     "data": {
      "text/plain": [
       "array([10, 12, 14, 16, 18, 20, 22, 24, 26, 28, 30, 32, 34, 36, 38, 40, 42,\n",
       "       44, 46, 48, 50, 52, 54, 56, 58, 60, 62, 64, 66, 68, 70, 72, 74, 76,\n",
       "       78, 80, 82, 84, 86, 88, 90, 92, 94, 96, 98])"
      ]
     },
     "execution_count": 150,
     "metadata": {},
     "output_type": "execute_result"
    }
   ],
   "source": [
    "ar3"
   ]
  },
  {
   "cell_type": "code",
   "execution_count": 151,
   "id": "9442907f-7653-483f-8fde-306a3cc239b6",
   "metadata": {},
   "outputs": [
    {
     "data": {
      "text/plain": [
       "array([ 10,  12, 100,  16,  18,  20,  22,  24,  26,  28,  30,  32,  34,\n",
       "        36,  38,  40,  42,  44,  46,  48,  50,  52,  54,  56,  58,  60,\n",
       "        62,  64,  66,  68,  70,  72,  74,  76,  78,  80,  82,  84,  86,\n",
       "        88,  90,  92,  94,  96,  98])"
      ]
     },
     "execution_count": 151,
     "metadata": {},
     "output_type": "execute_result"
    }
   ],
   "source": [
    "ar3[2] = 100\n",
    "ar3\n"
   ]
  },
  {
   "cell_type": "code",
   "execution_count": 152,
   "id": "682c9b88-be37-4960-9539-126ac88783e0",
   "metadata": {},
   "outputs": [
    {
     "data": {
      "text/plain": [
       "array([10, 12, 14, 16, 18, 20, 22, 24, 26, 28, 50, 32, 34, 36, 38, 40, 42,\n",
       "       44, 46, 48, 50, 52, 54, 56, 58, 60, 62, 64, 66, 68, 70, 72, 74, 76,\n",
       "       78, 80, 82, 84, 86, 88, 90, 92, 94, 96, 98])"
      ]
     },
     "execution_count": 152,
     "metadata": {},
     "output_type": "execute_result"
    }
   ],
   "source": [
    "ar4"
   ]
  },
  {
   "cell_type": "code",
   "execution_count": 153,
   "id": "3d9b8dae-eef0-485b-aa11-4dcb75471aea",
   "metadata": {},
   "outputs": [
    {
     "data": {
      "text/plain": [
       "8"
      ]
     },
     "execution_count": 153,
     "metadata": {},
     "output_type": "execute_result"
    }
   ],
   "source": [
    "ar3.itemsize"
   ]
  },
  {
   "cell_type": "code",
   "execution_count": 154,
   "id": "5591c2e8-ee46-4458-8e9c-de2460c42adb",
   "metadata": {},
   "outputs": [],
   "source": [
    "ar3 = ar3.astype(\"float\")"
   ]
  },
  {
   "cell_type": "code",
   "execution_count": 155,
   "id": "ef5c83f3-8067-4887-a60b-2ae9fcb0cee5",
   "metadata": {},
   "outputs": [
    {
     "data": {
      "text/plain": [
       "8"
      ]
     },
     "execution_count": 155,
     "metadata": {},
     "output_type": "execute_result"
    }
   ],
   "source": [
    "ar3.itemsize"
   ]
  },
  {
   "cell_type": "raw",
   "id": "b3ec7a4f-7ef9-473a-b5f2-ee535ffd73f1",
   "metadata": {},
   "source": [
    "ar3"
   ]
  },
  {
   "cell_type": "raw",
   "id": "909708e0-145b-4a6e-85d1-76c278014c57",
   "metadata": {},
   "source": [
    "ar3"
   ]
  },
  {
   "cell_type": "code",
   "execution_count": 156,
   "id": "0e706942-59eb-4b0b-bc93-1e1e11df42d3",
   "metadata": {},
   "outputs": [
    {
     "data": {
      "text/plain": [
       "array([ 10.,  12., 100.,  16.,  18.,  20.,  22.,  24.,  26.,  28.,  30.,\n",
       "        32.,  34.,  36.,  38.,  40.,  42.,  44.,  46.,  48.,  50.,  52.,\n",
       "        54.,  56.,  58.,  60.,  62.,  64.,  66.,  68.,  70.,  72.,  74.,\n",
       "        76.,  78.,  80.,  82.,  84.,  86.,  88.,  90.,  92.,  94.,  96.,\n",
       "        98.])"
      ]
     },
     "execution_count": 156,
     "metadata": {},
     "output_type": "execute_result"
    }
   ],
   "source": [
    "ar3"
   ]
  },
  {
   "cell_type": "code",
   "execution_count": 157,
   "id": "b08cb53c-8d5c-45a9-9103-af7e1d9b7edb",
   "metadata": {},
   "outputs": [
    {
     "data": {
      "text/plain": [
       "8"
      ]
     },
     "execution_count": 157,
     "metadata": {},
     "output_type": "execute_result"
    }
   ],
   "source": [
    "ar3.itemsize"
   ]
  },
  {
   "cell_type": "code",
   "execution_count": 158,
   "id": "cfe7ef18-7511-4dff-a710-55f7c7cfedc1",
   "metadata": {},
   "outputs": [],
   "source": [
    "ar3 = ar3.astype(np.int32)"
   ]
  },
  {
   "cell_type": "code",
   "execution_count": 159,
   "id": "8b1d0e37-3c76-4cbf-ab2a-6f7f45ef35a1",
   "metadata": {},
   "outputs": [
    {
     "data": {
      "text/plain": [
       "array([ 10,  12, 100,  16,  18,  20,  22,  24,  26,  28,  30,  32,  34,\n",
       "        36,  38,  40,  42,  44,  46,  48,  50,  52,  54,  56,  58,  60,\n",
       "        62,  64,  66,  68,  70,  72,  74,  76,  78,  80,  82,  84,  86,\n",
       "        88,  90,  92,  94,  96,  98], dtype=int32)"
      ]
     },
     "execution_count": 159,
     "metadata": {},
     "output_type": "execute_result"
    }
   ],
   "source": [
    "ar3"
   ]
  },
  {
   "cell_type": "code",
   "execution_count": 160,
   "id": "2de9cc7f-eb1d-49db-958c-a51ffe6dc2f0",
   "metadata": {},
   "outputs": [
    {
     "data": {
      "text/plain": [
       "4"
      ]
     },
     "execution_count": 160,
     "metadata": {},
     "output_type": "execute_result"
    }
   ],
   "source": [
    "ar3.itemsize"
   ]
  },
  {
   "cell_type": "code",
   "execution_count": 161,
   "id": "37c467dc-e16a-43e1-8ff3-c1048ac169d3",
   "metadata": {},
   "outputs": [
    {
     "data": {
      "text/plain": [
       "array([ 10,  12, 100,  16,  18,  20,  22,  24,  26,  28,  30,  32,  34,\n",
       "        36,  38,  40,  42,  44,  46,  48,  50,  52,  54,  56,  58,  60,\n",
       "        62,  64,  66,  68,  70,  72,  74,  76,  78,  80,  82,  84,  86,\n",
       "        88,  90,  92,  94,  96,  98], dtype=int32)"
      ]
     },
     "execution_count": 161,
     "metadata": {},
     "output_type": "execute_result"
    }
   ],
   "source": [
    "ar3"
   ]
  },
  {
   "cell_type": "code",
   "execution_count": 162,
   "id": "a29a0954-f98f-47dd-8cd7-21adbf06a526",
   "metadata": {},
   "outputs": [
    {
     "data": {
      "text/plain": [
       "array([[ 10,  12, 100,  16,  18,  20,  22,  24,  26],\n",
       "       [ 28,  30,  32,  34,  36,  38,  40,  42,  44],\n",
       "       [ 46,  48,  50,  52,  54,  56,  58,  60,  62],\n",
       "       [ 64,  66,  68,  70,  72,  74,  76,  78,  80],\n",
       "       [ 82,  84,  86,  88,  90,  92,  94,  96,  98]], dtype=int32)"
      ]
     },
     "execution_count": 162,
     "metadata": {},
     "output_type": "execute_result"
    }
   ],
   "source": [
    "ar3=ar3.reshape(5,9)\n",
    "ar3"
   ]
  },
  {
   "cell_type": "code",
   "execution_count": 163,
   "id": "12d10231-5999-4092-843f-9b5350f2d64e",
   "metadata": {},
   "outputs": [
    {
     "data": {
      "text/plain": [
       "array([46, 48, 50, 52, 54, 56, 58, 60, 62], dtype=int32)"
      ]
     },
     "execution_count": 163,
     "metadata": {},
     "output_type": "execute_result"
    }
   ],
   "source": [
    "ar3[2]"
   ]
  },
  {
   "cell_type": "code",
   "execution_count": 164,
   "id": "719e65d9-17c4-4bc4-b519-fd33e7c19630",
   "metadata": {},
   "outputs": [
    {
     "data": {
      "text/plain": [
       "array([[46, 48, 50, 52, 54, 56, 58, 60, 62],\n",
       "       [64, 66, 68, 70, 72, 74, 76, 78, 80],\n",
       "       [82, 84, 86, 88, 90, 92, 94, 96, 98]], dtype=int32)"
      ]
     },
     "execution_count": 164,
     "metadata": {},
     "output_type": "execute_result"
    }
   ],
   "source": [
    "ar3[2:]"
   ]
  },
  {
   "cell_type": "code",
   "execution_count": 165,
   "id": "d874fa8e-9003-4cbb-9a16-893eb373f5bc",
   "metadata": {},
   "outputs": [
    {
     "data": {
      "text/plain": [
       "array([[12],\n",
       "       [30],\n",
       "       [48],\n",
       "       [66],\n",
       "       [84]], dtype=int32)"
      ]
     },
     "execution_count": 165,
     "metadata": {},
     "output_type": "execute_result"
    }
   ],
   "source": [
    "ar3[:,1:2]"
   ]
  },
  {
   "cell_type": "code",
   "execution_count": 166,
   "id": "ef6210d6-0b84-4cab-bfd1-05714ee45f24",
   "metadata": {},
   "outputs": [
    {
     "data": {
      "text/plain": [
       "array([[58, 60],\n",
       "       [76, 78]], dtype=int32)"
      ]
     },
     "execution_count": 166,
     "metadata": {},
     "output_type": "execute_result"
    }
   ],
   "source": [
    "ar3[2:4,6:8]"
   ]
  },
  {
   "cell_type": "code",
   "execution_count": 167,
   "id": "74e2ecdb-fd54-4eff-8196-8d5ffa099b84",
   "metadata": {},
   "outputs": [
    {
     "data": {
      "text/plain": [
       "<numpy.nditer at 0x1ef152dd530>"
      ]
     },
     "execution_count": 167,
     "metadata": {},
     "output_type": "execute_result"
    }
   ],
   "source": [
    "np.nditer(ar3)"
   ]
  },
  {
   "cell_type": "code",
   "execution_count": 168,
   "id": "7641b893-d08e-47a9-aa26-d346429d5316",
   "metadata": {},
   "outputs": [
    {
     "name": "stdout",
     "output_type": "stream",
     "text": [
      "[ 10  12 100  16  18  20  22  24  26]\n",
      "[28 30 32 34 36 38 40 42 44]\n",
      "[46 48 50 52 54 56 58 60 62]\n",
      "[64 66 68 70 72 74 76 78 80]\n",
      "[82 84 86 88 90 92 94 96 98]\n"
     ]
    }
   ],
   "source": [
    "for i in ar3:\n",
    "    print(i)"
   ]
  },
  {
   "cell_type": "code",
   "execution_count": 169,
   "id": "79419ece-0229-4527-bbcd-6b060778a1ee",
   "metadata": {},
   "outputs": [
    {
     "name": "stdout",
     "output_type": "stream",
     "text": [
      "10\n",
      "12\n",
      "100\n",
      "16\n",
      "18\n",
      "20\n",
      "22\n",
      "24\n",
      "26\n",
      "28\n",
      "30\n",
      "32\n",
      "34\n",
      "36\n",
      "38\n",
      "40\n",
      "42\n",
      "44\n",
      "46\n",
      "48\n",
      "50\n",
      "52\n",
      "54\n",
      "56\n",
      "58\n",
      "60\n",
      "62\n",
      "64\n",
      "66\n",
      "68\n",
      "70\n",
      "72\n",
      "74\n",
      "76\n",
      "78\n",
      "80\n",
      "82\n",
      "84\n",
      "86\n",
      "88\n",
      "90\n",
      "92\n",
      "94\n",
      "96\n",
      "98\n"
     ]
    }
   ],
   "source": [
    "for i in np.nditer(ar3):\n",
    "    print(i)"
   ]
  },
  {
   "cell_type": "code",
   "execution_count": 170,
   "id": "6714f2af-23f3-44c2-9ba9-e90630718ceb",
   "metadata": {},
   "outputs": [
    {
     "data": {
      "text/plain": [
       "<numpy.flatiter at 0x1ef13ec0e90>"
      ]
     },
     "execution_count": 170,
     "metadata": {},
     "output_type": "execute_result"
    }
   ],
   "source": [
    "ar3.flat"
   ]
  },
  {
   "cell_type": "code",
   "execution_count": 171,
   "id": "c9d6e003-7b09-45ff-81a9-884c69054606",
   "metadata": {},
   "outputs": [
    {
     "name": "stdout",
     "output_type": "stream",
     "text": [
      "10\n",
      "12\n",
      "100\n",
      "16\n",
      "18\n",
      "20\n",
      "22\n",
      "24\n",
      "26\n",
      "28\n",
      "30\n",
      "32\n",
      "34\n",
      "36\n",
      "38\n",
      "40\n",
      "42\n",
      "44\n",
      "46\n",
      "48\n",
      "50\n",
      "52\n",
      "54\n",
      "56\n",
      "58\n",
      "60\n",
      "62\n",
      "64\n",
      "66\n",
      "68\n",
      "70\n",
      "72\n",
      "74\n",
      "76\n",
      "78\n",
      "80\n",
      "82\n",
      "84\n",
      "86\n",
      "88\n",
      "90\n",
      "92\n",
      "94\n",
      "96\n",
      "98\n"
     ]
    }
   ],
   "source": [
    "for i in ar3.flat:\n",
    "    print(i)"
   ]
  },
  {
   "cell_type": "code",
   "execution_count": 172,
   "id": "7a3b36ba-70b3-43f9-b1a8-e046b4fb6dea",
   "metadata": {},
   "outputs": [
    {
     "data": {
      "text/plain": [
       "<numpy.nditer at 0x1ef152ddd10>"
      ]
     },
     "execution_count": 172,
     "metadata": {},
     "output_type": "execute_result"
    }
   ],
   "source": [
    "np.nditer(ar3)"
   ]
  },
  {
   "cell_type": "code",
   "execution_count": 173,
   "id": "d260ebf0-1534-4028-b0f3-a7cfefa885c3",
   "metadata": {},
   "outputs": [
    {
     "data": {
      "text/plain": [
       "(array([0, 0, 0, 0, 0, 0, 0, 0, 0, 1, 1, 1, 1, 1, 1, 1, 1, 1, 2, 2, 2, 2,\n",
       "        2, 2, 2, 2, 2, 3, 3, 3, 3, 3, 3, 3, 3, 3, 4, 4, 4, 4, 4, 4, 4, 4,\n",
       "        4]),\n",
       " array([0, 1, 2, 3, 4, 5, 6, 7, 8, 0, 1, 2, 3, 4, 5, 6, 7, 8, 0, 1, 2, 3,\n",
       "        4, 5, 6, 7, 8, 0, 1, 2, 3, 4, 5, 6, 7, 8, 0, 1, 2, 3, 4, 5, 6, 7,\n",
       "        8]))"
      ]
     },
     "execution_count": 173,
     "metadata": {},
     "output_type": "execute_result"
    }
   ],
   "source": [
    "np.where(ar3>3)"
   ]
  },
  {
   "cell_type": "code",
   "execution_count": 174,
   "id": "5a5db47e-db29-4bb1-ae39-9b6788e8a577",
   "metadata": {},
   "outputs": [
    {
     "data": {
      "text/plain": [
       "array([[False, False,  True, False, False, False, False, False, False],\n",
       "       [False, False, False, False, False, False, False, False, False],\n",
       "       [False, False, False, False, False,  True,  True,  True,  True],\n",
       "       [ True,  True,  True,  True,  True,  True,  True,  True,  True],\n",
       "       [ True,  True,  True,  True,  True,  True,  True,  True,  True]])"
      ]
     },
     "execution_count": 174,
     "metadata": {},
     "output_type": "execute_result"
    }
   ],
   "source": [
    "ar3>55"
   ]
  },
  {
   "cell_type": "code",
   "execution_count": 175,
   "id": "10945c9a-bad2-42de-9589-cd46fd4a7f11",
   "metadata": {},
   "outputs": [
    {
     "data": {
      "text/plain": [
       "array([[ 3.16227766,  3.46410162, 10.        ,  4.        ,  4.24264069,\n",
       "         4.47213595,  4.69041576,  4.89897949,  5.09901951],\n",
       "       [ 5.29150262,  5.47722558,  5.65685425,  5.83095189,  6.        ,\n",
       "         6.164414  ,  6.32455532,  6.4807407 ,  6.63324958],\n",
       "       [ 6.78232998,  6.92820323,  7.07106781,  7.21110255,  7.34846923,\n",
       "         7.48331477,  7.61577311,  7.74596669,  7.87400787],\n",
       "       [ 8.        ,  8.1240384 ,  8.24621125,  8.36660027,  8.48528137,\n",
       "         8.60232527,  8.71779789,  8.83176087,  8.94427191],\n",
       "       [ 9.05538514,  9.16515139,  9.2736185 ,  9.38083152,  9.48683298,\n",
       "         9.59166305,  9.69535971,  9.79795897,  9.89949494]])"
      ]
     },
     "execution_count": 175,
     "metadata": {},
     "output_type": "execute_result"
    }
   ],
   "source": [
    "np.sqrt(ar3)"
   ]
  },
  {
   "cell_type": "code",
   "execution_count": 176,
   "id": "507ec871-bb4d-4160-a031-71d987a08d13",
   "metadata": {},
   "outputs": [
    {
     "data": {
      "text/plain": [
       "np.float64(56.0)"
      ]
     },
     "execution_count": 176,
     "metadata": {},
     "output_type": "execute_result"
    }
   ],
   "source": [
    "np.median(ar3)"
   ]
  },
  {
   "cell_type": "code",
   "execution_count": 177,
   "id": "16cf0dee-4ef1-4e52-8367-3543fbb370d4",
   "metadata": {},
   "outputs": [
    {
     "data": {
      "text/plain": [
       "array([[-0.54402111, -0.53657292, -0.50636564, -0.28790332, -0.75098725,\n",
       "         0.91294525, -0.00885131, -0.90557836,  0.76255845],\n",
       "       [ 0.27090579, -0.98803162,  0.55142668,  0.52908269, -0.99177885,\n",
       "         0.29636858,  0.74511316, -0.91652155,  0.01770193],\n",
       "       [ 0.90178835, -0.76825466, -0.26237485,  0.98662759, -0.55878905,\n",
       "        -0.521551  ,  0.99287265, -0.30481062, -0.7391807 ],\n",
       "       [ 0.92002604, -0.02655115, -0.89792768,  0.77389068,  0.25382336,\n",
       "        -0.98514626,  0.56610764,  0.51397846, -0.99388865],\n",
       "       [ 0.31322878,  0.73319032, -0.92345845,  0.0353983 ,  0.89399666,\n",
       "        -0.77946607, -0.24525199,  0.98358775, -0.57338187]])"
      ]
     },
     "execution_count": 177,
     "metadata": {},
     "output_type": "execute_result"
    }
   ],
   "source": [
    "np.sin(ar3)"
   ]
  },
  {
   "cell_type": "code",
   "execution_count": 178,
   "id": "d2c86412-4751-4d1e-826f-e7cf9811fcbd",
   "metadata": {},
   "outputs": [
    {
     "data": {
      "text/plain": [
       "np.float64(55.91111111111111)"
      ]
     },
     "execution_count": 178,
     "metadata": {},
     "output_type": "execute_result"
    }
   ],
   "source": [
    "np.mean(ar3)"
   ]
  },
  {
   "cell_type": "code",
   "execution_count": null,
   "id": "57302ccb-a559-4ee2-9b64-2100fd3bb7e4",
   "metadata": {},
   "outputs": [],
   "source": []
  },
  {
   "cell_type": "code",
   "execution_count": 179,
   "id": "5a52820c-d02a-452c-bad7-8a043b0dbe04",
   "metadata": {},
   "outputs": [
    {
     "data": {
      "text/plain": [
       "<function ndarray.mean>"
      ]
     },
     "execution_count": 179,
     "metadata": {},
     "output_type": "execute_result"
    }
   ],
   "source": [
    "ar3.mean"
   ]
  },
  {
   "cell_type": "code",
   "execution_count": 180,
   "id": "f8c4e4c0-fe7e-44fb-8820-5d06a19d6bad",
   "metadata": {},
   "outputs": [
    {
     "data": {
      "text/plain": [
       "np.float64(55.91111111111111)"
      ]
     },
     "execution_count": 180,
     "metadata": {},
     "output_type": "execute_result"
    }
   ],
   "source": [
    "ar3.mean()"
   ]
  },
  {
   "cell_type": "code",
   "execution_count": 181,
   "id": "f600ef05-1a3f-49c3-afa4-d1e8e4aa9430",
   "metadata": {},
   "outputs": [
    {
     "data": {
      "text/plain": [
       "np.float64(26.124337075882348)"
      ]
     },
     "execution_count": 181,
     "metadata": {},
     "output_type": "execute_result"
    }
   ],
   "source": [
    "ar3.std()"
   ]
  },
  {
   "cell_type": "code",
   "execution_count": 182,
   "id": "b1f9b871-e54f-4c8e-8e42-4e64b58ce689",
   "metadata": {},
   "outputs": [
    {
     "data": {
      "text/plain": [
       "array([[ 10,  28,  46,  64,  82],\n",
       "       [ 12,  30,  48,  66,  84],\n",
       "       [100,  32,  50,  68,  86],\n",
       "       [ 16,  34,  52,  70,  88],\n",
       "       [ 18,  36,  54,  72,  90],\n",
       "       [ 20,  38,  56,  74,  92],\n",
       "       [ 22,  40,  58,  76,  94],\n",
       "       [ 24,  42,  60,  78,  96],\n",
       "       [ 26,  44,  62,  80,  98]], dtype=int32)"
      ]
     },
     "execution_count": 182,
     "metadata": {},
     "output_type": "execute_result"
    }
   ],
   "source": [
    "ar3.transpose()"
   ]
  },
  {
   "cell_type": "code",
   "execution_count": 183,
   "id": "92f415a2-55e8-4606-b08f-22c2f16936f9",
   "metadata": {},
   "outputs": [
    {
     "data": {
      "text/plain": [
       "array([[ 10,  28,  46,  64,  82],\n",
       "       [ 12,  30,  48,  66,  84],\n",
       "       [100,  32,  50,  68,  86],\n",
       "       [ 16,  34,  52,  70,  88],\n",
       "       [ 18,  36,  54,  72,  90],\n",
       "       [ 20,  38,  56,  74,  92],\n",
       "       [ 22,  40,  58,  76,  94],\n",
       "       [ 24,  42,  60,  78,  96],\n",
       "       [ 26,  44,  62,  80,  98]], dtype=int32)"
      ]
     },
     "execution_count": 183,
     "metadata": {},
     "output_type": "execute_result"
    }
   ],
   "source": [
    "np.transpose(ar3)"
   ]
  },
  {
   "cell_type": "code",
   "execution_count": 184,
   "id": "e69eb394-9a2d-463f-8c3d-fe2eba1ba5d7",
   "metadata": {},
   "outputs": [
    {
     "data": {
      "text/plain": [
       "array([[ 10,  28,  46,  64,  82],\n",
       "       [ 12,  30,  48,  66,  84],\n",
       "       [100,  32,  50,  68,  86],\n",
       "       [ 16,  34,  52,  70,  88],\n",
       "       [ 18,  36,  54,  72,  90],\n",
       "       [ 20,  38,  56,  74,  92],\n",
       "       [ 22,  40,  58,  76,  94],\n",
       "       [ 24,  42,  60,  78,  96],\n",
       "       [ 26,  44,  62,  80,  98]], dtype=int32)"
      ]
     },
     "execution_count": 184,
     "metadata": {},
     "output_type": "execute_result"
    }
   ],
   "source": [
    "ar3.T"
   ]
  },
  {
   "cell_type": "code",
   "execution_count": 185,
   "id": "20f99842-62a9-4aeb-ba7f-0bb37ca47fb1",
   "metadata": {},
   "outputs": [
    {
     "data": {
      "text/plain": [
       "array([[ 10,  12, 100,  16,  18,  20,  22,  24,  26],\n",
       "       [ 28,  30,  32,  34,  36,  38,  40,  42,  44],\n",
       "       [ 46,  48,  50,  52,  54,  56,  58,  60,  62],\n",
       "       [ 64,  66,  68,  70,  72,  74,  76,  78,  80],\n",
       "       [ 82,  84,  86,  88,  90,  92,  94,  96,  98]], dtype=int32)"
      ]
     },
     "execution_count": 185,
     "metadata": {},
     "output_type": "execute_result"
    }
   ],
   "source": [
    "ar3"
   ]
  },
  {
   "cell_type": "code",
   "execution_count": 186,
   "id": "ae97a5dc-7d94-4f10-baa4-ed8226c57753",
   "metadata": {},
   "outputs": [
    {
     "data": {
      "text/plain": [
       "array([[ 10,  28,  46,  64,  82],\n",
       "       [ 12,  30,  48,  66,  84],\n",
       "       [100,  32,  50,  68,  86],\n",
       "       [ 16,  34,  52,  70,  88],\n",
       "       [ 18,  36,  54,  72,  90],\n",
       "       [ 20,  38,  56,  74,  92],\n",
       "       [ 22,  40,  58,  76,  94],\n",
       "       [ 24,  42,  60,  78,  96],\n",
       "       [ 26,  44,  62,  80,  98]], dtype=int32)"
      ]
     },
     "execution_count": 186,
     "metadata": {},
     "output_type": "execute_result"
    }
   ],
   "source": [
    "ar3.transpose()"
   ]
  },
  {
   "cell_type": "code",
   "execution_count": 187,
   "id": "6bd3c98e-149b-434d-8ebd-82e660548309",
   "metadata": {},
   "outputs": [
    {
     "data": {
      "text/plain": [
       "array([[ 10,  12, 100,  16,  18,  20,  22,  24,  26],\n",
       "       [ 28,  30,  32,  34,  36,  38,  40,  42,  44],\n",
       "       [ 46,  48,  50,  52,  54,  56,  58,  60,  62],\n",
       "       [ 64,  66,  68,  70,  72,  74,  76,  78,  80],\n",
       "       [ 82,  84,  86,  88,  90,  92,  94,  96,  98]], dtype=int32)"
      ]
     },
     "execution_count": 187,
     "metadata": {},
     "output_type": "execute_result"
    }
   ],
   "source": [
    "ar3"
   ]
  },
  {
   "cell_type": "code",
   "execution_count": 188,
   "id": "7737bc1b-0721-4e69-9b61-3431e7487fb2",
   "metadata": {},
   "outputs": [
    {
     "data": {
      "text/plain": [
       "array([[ 10,  12, 100,  16,  18,  20,  22,  24,  26],\n",
       "       [ 28,  30,  32,  34,  36,  38,  40,  42,  44],\n",
       "       [ 46,  48,  50,  52,  54,  56,  58,  60,  62],\n",
       "       [ 64,  66,  68,  70,  72,  74,  76,  78,  80],\n",
       "       [ 82,  84,  86,  88,  90,  92,  94,  96,  98]], dtype=int32)"
      ]
     },
     "execution_count": 188,
     "metadata": {},
     "output_type": "execute_result"
    }
   ],
   "source": [
    "ar3"
   ]
  },
  {
   "cell_type": "code",
   "execution_count": 189,
   "id": "0d60412d-6aa9-49a2-987d-10afbcb8c46f",
   "metadata": {},
   "outputs": [
    {
     "data": {
      "text/plain": [
       "array([[1., 1., 1., 1., 1., 1.],\n",
       "       [1., 1., 1., 1., 1., 1.]])"
      ]
     },
     "execution_count": 189,
     "metadata": {},
     "output_type": "execute_result"
    }
   ],
   "source": [
    "ar2"
   ]
  },
  {
   "cell_type": "code",
   "execution_count": 190,
   "id": "773585d1-4303-4b91-9e8a-c22dcf8c89d5",
   "metadata": {},
   "outputs": [
    {
     "data": {
      "text/plain": [
       "array([[21, 22, 23],\n",
       "       [44, 55, 66]])"
      ]
     },
     "execution_count": 190,
     "metadata": {},
     "output_type": "execute_result"
    }
   ],
   "source": [
    "kmv_arr"
   ]
  },
  {
   "cell_type": "code",
   "execution_count": 191,
   "id": "821da05c-f78d-48e0-8656-cd0fc2fb16e6",
   "metadata": {},
   "outputs": [],
   "source": [
    "jarr =np.array([\n",
    "    [37,32,77],\n",
    "    [88,33,45],\n",
    "    [89,99,34],\n",
    "[98,90,32]])"
   ]
  },
  {
   "cell_type": "code",
   "execution_count": 192,
   "id": "531dbef4-f1f4-4d83-9008-41db6c8e4b76",
   "metadata": {},
   "outputs": [
    {
     "data": {
      "text/plain": [
       "array([[37, 32, 77],\n",
       "       [88, 33, 45],\n",
       "       [89, 99, 34],\n",
       "       [98, 90, 32]])"
      ]
     },
     "execution_count": 192,
     "metadata": {},
     "output_type": "execute_result"
    }
   ],
   "source": [
    "jarr"
   ]
  },
  {
   "cell_type": "code",
   "execution_count": 193,
   "id": "a2172fd2-43e5-4eee-a306-4b40ebe8b565",
   "metadata": {},
   "outputs": [
    {
     "data": {
      "text/plain": [
       "array([[ 0,  1,  2],\n",
       "       [ 3,  4,  5],\n",
       "       [ 6,  7,  8],\n",
       "       [ 9, 10, 11]])"
      ]
     },
     "execution_count": 193,
     "metadata": {},
     "output_type": "execute_result"
    }
   ],
   "source": [
    "karr= np.arange(12).reshape(4,3)\n",
    "karr"
   ]
  },
  {
   "cell_type": "code",
   "execution_count": 194,
   "id": "641c87e8-1a76-4cd1-8357-19f6e72520c7",
   "metadata": {},
   "outputs": [
    {
     "data": {
      "text/plain": [
       "array([[ 0,  1,  2, 37, 32, 77],\n",
       "       [ 3,  4,  5, 88, 33, 45],\n",
       "       [ 6,  7,  8, 89, 99, 34],\n",
       "       [ 9, 10, 11, 98, 90, 32]])"
      ]
     },
     "execution_count": 194,
     "metadata": {},
     "output_type": "execute_result"
    }
   ],
   "source": [
    "np.hstack((karr,jarr))"
   ]
  },
  {
   "cell_type": "code",
   "execution_count": 195,
   "id": "f26ef94c-4754-4d30-911d-140fc7331e6e",
   "metadata": {},
   "outputs": [
    {
     "data": {
      "text/plain": [
       "array([[37, 32, 77],\n",
       "       [88, 33, 45],\n",
       "       [89, 99, 34],\n",
       "       [98, 90, 32],\n",
       "       [ 0,  1,  2],\n",
       "       [ 3,  4,  5],\n",
       "       [ 6,  7,  8],\n",
       "       [ 9, 10, 11]])"
      ]
     },
     "execution_count": 195,
     "metadata": {},
     "output_type": "execute_result"
    }
   ],
   "source": [
    "np.vstack((jarr,karr))"
   ]
  },
  {
   "cell_type": "code",
   "execution_count": 196,
   "id": "8cb89fac-9a47-4f46-ac74-7fd81f1bb26c",
   "metadata": {},
   "outputs": [
    {
     "data": {
      "text/plain": [
       "[array([[37],\n",
       "        [88],\n",
       "        [89],\n",
       "        [98]]),\n",
       " array([[32],\n",
       "        [33],\n",
       "        [99],\n",
       "        [90]]),\n",
       " array([[77],\n",
       "        [45],\n",
       "        [34],\n",
       "        [32]])]"
      ]
     },
     "execution_count": 196,
     "metadata": {},
     "output_type": "execute_result"
    }
   ],
   "source": [
    "np.hsplit(jarr,3)"
   ]
  },
  {
   "cell_type": "code",
   "execution_count": 197,
   "id": "d9e2dee6-5ceb-4ff7-adfe-75f288118b01",
   "metadata": {},
   "outputs": [
    {
     "data": {
      "text/plain": [
       "[array([[37, 32, 77],\n",
       "        [88, 33, 45]]),\n",
       " array([[89, 99, 34],\n",
       "        [98, 90, 32]])]"
      ]
     },
     "execution_count": 197,
     "metadata": {},
     "output_type": "execute_result"
    }
   ],
   "source": [
    "np.vsplit(jarr,2)"
   ]
  },
  {
   "cell_type": "code",
   "execution_count": 198,
   "id": "85b470c7-e2ab-422c-9010-cc7f9a88971d",
   "metadata": {},
   "outputs": [
    {
     "data": {
      "text/plain": [
       "array([[37, 32, 77],\n",
       "       [88, 33, 45],\n",
       "       [89, 99, 34],\n",
       "       [98, 90, 32]])"
      ]
     },
     "execution_count": 198,
     "metadata": {},
     "output_type": "execute_result"
    }
   ],
   "source": [
    "jarr"
   ]
  },
  {
   "cell_type": "code",
   "execution_count": 199,
   "id": "9846aaee-b413-4e0f-8069-9764cdfc4165",
   "metadata": {},
   "outputs": [
    {
     "data": {
      "text/plain": [
       "np.int64(45)"
      ]
     },
     "execution_count": 199,
     "metadata": {},
     "output_type": "execute_result"
    }
   ],
   "source": [
    "jarr[1,2]"
   ]
  },
  {
   "cell_type": "code",
   "execution_count": 200,
   "id": "7b3d6449-93a0-457d-99c2-216910d23b5e",
   "metadata": {},
   "outputs": [
    {
     "data": {
      "text/plain": [
       "array([[33, 45],\n",
       "       [99, 34]])"
      ]
     },
     "execution_count": 200,
     "metadata": {},
     "output_type": "execute_result"
    }
   ],
   "source": [
    "jarr[1:3,1:]"
   ]
  },
  {
   "cell_type": "code",
   "execution_count": 201,
   "id": "88a3a88b-b029-4fbf-b9c7-978f0ab6dcac",
   "metadata": {},
   "outputs": [
    {
     "data": {
      "text/plain": [
       "array([[37, 32, 77],\n",
       "       [98, 90, 32]])"
      ]
     },
     "execution_count": 201,
     "metadata": {},
     "output_type": "execute_result"
    }
   ],
   "source": [
    "jarr[[0,3]]"
   ]
  },
  {
   "cell_type": "code",
   "execution_count": 202,
   "id": "fd90533c-5c2c-4462-bef9-30bf22b411d4",
   "metadata": {},
   "outputs": [
    {
     "data": {
      "text/plain": [
       "array([[77],\n",
       "       [34]])"
      ]
     },
     "execution_count": 202,
     "metadata": {},
     "output_type": "execute_result"
    }
   ],
   "source": [
    "jarr[[0,2],2:]"
   ]
  },
  {
   "cell_type": "code",
   "execution_count": 203,
   "id": "9615b795-84b7-4225-acdd-609fe16c847c",
   "metadata": {},
   "outputs": [
    {
     "data": {
      "text/plain": [
       "array([37, 32, 33, 34, 32])"
      ]
     },
     "execution_count": 203,
     "metadata": {},
     "output_type": "execute_result"
    }
   ],
   "source": [
    "jarr[jarr<40]"
   ]
  },
  {
   "cell_type": "code",
   "execution_count": 204,
   "id": "d7ec1310-98a3-46dd-b4fe-bdc2f94c4d54",
   "metadata": {},
   "outputs": [
    {
     "data": {
      "text/plain": [
       "array([37])"
      ]
     },
     "execution_count": 204,
     "metadata": {},
     "output_type": "execute_result"
    }
   ],
   "source": [
    "jarr[(jarr<40) & (jarr>35)]"
   ]
  },
  {
   "cell_type": "code",
   "execution_count": 205,
   "id": "694d52dc-9f46-45ed-aee0-893e1f61b6e2",
   "metadata": {},
   "outputs": [],
   "source": [
    "arr11 = np.array([\n",
    "    [23,22,55],\n",
    "    [12,76,33]])\n",
    "arr22 = np.arange(3)"
   ]
  },
  {
   "cell_type": "code",
   "execution_count": 206,
   "id": "59ed1d15-e04f-46dc-b4aa-84f5c120fe5b",
   "metadata": {},
   "outputs": [
    {
     "data": {
      "text/plain": [
       "array([[23, 22, 55],\n",
       "       [12, 76, 33]])"
      ]
     },
     "execution_count": 206,
     "metadata": {},
     "output_type": "execute_result"
    }
   ],
   "source": [
    "arr11"
   ]
  },
  {
   "cell_type": "code",
   "execution_count": 207,
   "id": "88e72133-3697-459c-baa4-ba2956f7ff16",
   "metadata": {},
   "outputs": [
    {
     "data": {
      "text/plain": [
       "array([0, 1, 2])"
      ]
     },
     "execution_count": 207,
     "metadata": {},
     "output_type": "execute_result"
    }
   ],
   "source": [
    "arr22"
   ]
  },
  {
   "cell_type": "code",
   "execution_count": 208,
   "id": "f527d96b-ab86-447a-abaa-d511c7b5a5b3",
   "metadata": {},
   "outputs": [
    {
     "data": {
      "text/plain": [
       "array([[23, 23, 57],\n",
       "       [12, 77, 35]])"
      ]
     },
     "execution_count": 208,
     "metadata": {},
     "output_type": "execute_result"
    }
   ],
   "source": [
    "arr22+arr11"
   ]
  },
  {
   "cell_type": "code",
   "execution_count": 209,
   "id": "125af4d3-f2f2-4167-93d2-92bba70655f1",
   "metadata": {},
   "outputs": [
    {
     "data": {
      "text/plain": [
       "array([[1],\n",
       "       [2]])"
      ]
     },
     "execution_count": 209,
     "metadata": {},
     "output_type": "execute_result"
    }
   ],
   "source": [
    "np.array([[1],[2]])"
   ]
  },
  {
   "cell_type": "code",
   "execution_count": 210,
   "id": "03f0ff58-24fd-4acc-b226-d63df4bf377e",
   "metadata": {},
   "outputs": [
    {
     "data": {
      "text/plain": [
       "array([[23, 22, 55],\n",
       "       [12, 76, 33]])"
      ]
     },
     "execution_count": 210,
     "metadata": {},
     "output_type": "execute_result"
    }
   ],
   "source": [
    "arr11"
   ]
  },
  {
   "cell_type": "code",
   "execution_count": 211,
   "id": "49094e8b-0810-4bbe-a81c-199466481ca9",
   "metadata": {},
   "outputs": [
    {
     "data": {
      "text/plain": [
       "array([[24, 23, 56],\n",
       "       [14, 78, 35]])"
      ]
     },
     "execution_count": 211,
     "metadata": {},
     "output_type": "execute_result"
    }
   ],
   "source": [
    "arr11+np.array([[1],[2]])"
   ]
  },
  {
   "cell_type": "code",
   "execution_count": 212,
   "id": "1d01aec6-85f9-4c81-8143-388cc164f58f",
   "metadata": {
    "scrolled": true
   },
   "outputs": [
    {
     "data": {
      "text/plain": [
       "array([[[[0.3545083 , 0.64276099],\n",
       "         [0.44950171, 0.54882657]],\n",
       "\n",
       "        [[0.60777621, 0.00664132],\n",
       "         [0.66390082, 0.17685688]],\n",
       "\n",
       "        [[0.91967116, 0.73316053],\n",
       "         [0.7498419 , 0.29802152]],\n",
       "\n",
       "        [[0.31649427, 0.27457339],\n",
       "         [0.60023853, 0.83615246]],\n",
       "\n",
       "        [[0.70204891, 0.66723177],\n",
       "         [0.16331595, 0.53731103]],\n",
       "\n",
       "        [[0.91837182, 0.03578954],\n",
       "         [0.86078481, 0.56195472]],\n",
       "\n",
       "        [[0.10942895, 0.97853039],\n",
       "         [0.30846645, 0.72769107]],\n",
       "\n",
       "        [[0.45252104, 0.22306372],\n",
       "         [0.35566976, 0.13504214]]],\n",
       "\n",
       "\n",
       "       [[[0.14228291, 0.42272776],\n",
       "         [0.04853556, 0.87372098]],\n",
       "\n",
       "        [[0.45075348, 0.48020271],\n",
       "         [0.08183095, 0.97210193]],\n",
       "\n",
       "        [[0.10198765, 0.17044604],\n",
       "         [0.34080875, 0.78195199]],\n",
       "\n",
       "        [[0.24879162, 0.06649052],\n",
       "         [0.39592499, 0.90472389]],\n",
       "\n",
       "        [[0.31843326, 0.68068786],\n",
       "         [0.32343778, 0.56485939]],\n",
       "\n",
       "        [[0.24830344, 0.7818702 ],\n",
       "         [0.65954821, 0.58429627]],\n",
       "\n",
       "        [[0.48499378, 0.91913982],\n",
       "         [0.12390177, 0.73965854]],\n",
       "\n",
       "        [[0.85698106, 0.37843615],\n",
       "         [0.7959594 , 0.87006381]]]])"
      ]
     },
     "execution_count": 212,
     "metadata": {},
     "output_type": "execute_result"
    }
   ],
   "source": [
    "np.random.random([2,8,2,2])  #creating n dimensinal random numbers array"
   ]
  },
  {
   "cell_type": "code",
   "execution_count": 213,
   "id": "314150a7-689d-414c-a058-526d291df1b7",
   "metadata": {},
   "outputs": [
    {
     "data": {
      "text/plain": [
       "0.7816759427250168"
      ]
     },
     "execution_count": 213,
     "metadata": {},
     "output_type": "execute_result"
    }
   ],
   "source": [
    "np.random.random()"
   ]
  },
  {
   "cell_type": "code",
   "execution_count": 214,
   "id": "8ee846b6-e755-49e4-8fdb-4eb4dff154fa",
   "metadata": {},
   "outputs": [
    {
     "data": {
      "text/plain": [
       "0.002620149578537956"
      ]
     },
     "execution_count": 214,
     "metadata": {},
     "output_type": "execute_result"
    }
   ],
   "source": [
    "np.random.rand()"
   ]
  },
  {
   "cell_type": "code",
   "execution_count": 215,
   "id": "c2a1bd1c-0834-4c6b-ba6e-a14dd01ad972",
   "metadata": {},
   "outputs": [
    {
     "data": {
      "text/plain": [
       "array([[5, 5, 5, 5, 5, 5, 5, 5, 5, 5],\n",
       "       [5, 5, 5, 5, 5, 5, 5, 5, 5, 5],\n",
       "       [5, 5, 5, 5, 5, 5, 5, 5, 5, 5],\n",
       "       [5, 5, 5, 5, 5, 5, 5, 2, 5, 5],\n",
       "       [5, 5, 5, 5, 5, 5, 5, 5, 5, 2]])"
      ]
     },
     "execution_count": 215,
     "metadata": {},
     "output_type": "execute_result"
    }
   ],
   "source": [
    "np.random.choice([5,2,99],p=[0.9,0.1,0],size=(5,10))"
   ]
  },
  {
   "cell_type": "code",
   "execution_count": 216,
   "id": "0c07d211-197b-4181-bdf2-9da6bb11b1f3",
   "metadata": {},
   "outputs": [
    {
     "data": {
      "text/plain": [
       "array([[0, 0, 2],\n",
       "       [3, 0, 1],\n",
       "       [0, 2, 2],\n",
       "       [3, 0, 0],\n",
       "       [3, 0, 0],\n",
       "       [2, 2, 3],\n",
       "       [3, 3, 2],\n",
       "       [0, 2, 2],\n",
       "       [2, 2, 0],\n",
       "       [1, 1, 0]], dtype=int32)"
      ]
     },
     "execution_count": 216,
     "metadata": {},
     "output_type": "execute_result"
    }
   ],
   "source": [
    "np.random.randint(4,size= (10,3))"
   ]
  },
  {
   "cell_type": "code",
   "execution_count": 217,
   "id": "e45b25b5-6e05-4ddf-bf7c-58bd4e152ea7",
   "metadata": {},
   "outputs": [
    {
     "data": {
      "text/plain": [
       "array([12,  7,  8, 14,  8,  7, 10, 12], dtype=int32)"
      ]
     },
     "execution_count": 217,
     "metadata": {},
     "output_type": "execute_result"
    }
   ],
   "source": [
    "np.random.randint(low= 5,high = 15,size = 8)"
   ]
  },
  {
   "cell_type": "code",
   "execution_count": 218,
   "id": "35b638da-0d9d-4775-bfe7-24eb4dc72ea8",
   "metadata": {},
   "outputs": [
    {
     "data": {
      "text/plain": [
       "array([[21, 22, 23],\n",
       "       [44, 55, 66]])"
      ]
     },
     "execution_count": 218,
     "metadata": {},
     "output_type": "execute_result"
    }
   ],
   "source": [
    "kmv_arr"
   ]
  },
  {
   "cell_type": "code",
   "execution_count": 219,
   "id": "c6ddb594-7a3f-434c-acef-bd3fd88efb35",
   "metadata": {},
   "outputs": [
    {
     "data": {
      "text/plain": [
       "array([21, 22, 23, 44, 55, 66])"
      ]
     },
     "execution_count": 219,
     "metadata": {},
     "output_type": "execute_result"
    }
   ],
   "source": [
    "kmv_arr.ravel()"
   ]
  },
  {
   "cell_type": "code",
   "execution_count": 220,
   "id": "e74994a9-c880-47dd-a368-8b3ea0fc1d3e",
   "metadata": {},
   "outputs": [
    {
     "data": {
      "text/plain": [
       "np.float64(65.45)"
      ]
     },
     "execution_count": 220,
     "metadata": {},
     "output_type": "execute_result"
    }
   ],
   "source": [
    "np.percentile(kmv_arr.ravel(),99)"
   ]
  },
  {
   "cell_type": "code",
   "execution_count": 221,
   "id": "bfb58b12-53ec-4c2a-91dd-70c09a93182e",
   "metadata": {},
   "outputs": [
    {
     "name": "stdout",
     "output_type": "stream",
     "text": [
      "0.43599490214200376\n"
     ]
    },
    {
     "data": {
      "text/plain": [
       "0.025926231827891333"
      ]
     },
     "execution_count": 221,
     "metadata": {},
     "output_type": "execute_result"
    }
   ],
   "source": [
    "np.random.seed(2)\n",
    "print(np.random.random())\n",
    "np.random.random()"
   ]
  },
  {
   "cell_type": "code",
   "execution_count": 222,
   "id": "e8d8cb4a-2d65-4371-be8c-98e5acbe7851",
   "metadata": {},
   "outputs": [
    {
     "data": {
      "text/plain": [
       "0.43599490214200376"
      ]
     },
     "execution_count": 222,
     "metadata": {},
     "output_type": "execute_result"
    }
   ],
   "source": [
    "np.random.seed(2)\n",
    "np.random.random()"
   ]
  },
  {
   "cell_type": "code",
   "execution_count": 223,
   "id": "436fd732-7cc6-4906-bdba-46bd32c6e7ac",
   "metadata": {},
   "outputs": [
    {
     "data": {
      "text/plain": [
       "array([[[0.02592623, 0.54966248, 0.43532239, 0.4203678 ],\n",
       "        [0.33033482, 0.20464863, 0.61927097, 0.29965467],\n",
       "        [0.26682728, 0.62113383, 0.52914209, 0.13457995]],\n",
       "\n",
       "       [[0.51357812, 0.18443987, 0.78533515, 0.85397529],\n",
       "        [0.49423684, 0.84656149, 0.07964548, 0.50524609],\n",
       "        [0.0652865 , 0.42812233, 0.09653092, 0.12715997]]])"
      ]
     },
     "execution_count": 223,
     "metadata": {},
     "output_type": "execute_result"
    }
   ],
   "source": [
    "np.random.rand(2,3,4)"
   ]
  },
  {
   "cell_type": "code",
   "execution_count": 231,
   "id": "6ad39232-3adf-4b5f-a6cc-043e8df4a217",
   "metadata": {},
   "outputs": [
    {
     "data": {
      "text/plain": [
       "array([[[0.06571068, 0.31728336],\n",
       "        [0.58555545, 0.52413135],\n",
       "        [0.43512262, 0.91267715]],\n",
       "\n",
       "       [[0.56997665, 0.93413675],\n",
       "        [0.57615435, 0.18518019],\n",
       "        [0.98207871, 0.99850326]]])"
      ]
     },
     "execution_count": 231,
     "metadata": {},
     "output_type": "execute_result"
    }
   ],
   "source": [
    "np.random.rand(2,3,2)"
   ]
  },
  {
   "cell_type": "code",
   "execution_count": 232,
   "id": "2b4f9ab2-bac9-464d-9d7d-2b44a06c33d0",
   "metadata": {},
   "outputs": [
    {
     "data": {
      "text/plain": [
       "array([[[0.44646811, 0.76243056],\n",
       "        [0.63656342, 0.18524397],\n",
       "        [0.57920196, 0.65424193]],\n",
       "\n",
       "       [[0.59374037, 0.54147664],\n",
       "        [0.59187907, 0.70899117],\n",
       "        [0.77097797, 0.0890502 ]]])"
      ]
     },
     "execution_count": 232,
     "metadata": {},
     "output_type": "execute_result"
    }
   ],
   "source": [
    "np.random.random([2,3,2])"
   ]
  },
  {
   "cell_type": "code",
   "execution_count": 233,
   "id": "bccce693-85ca-41ea-9b68-e55f39a1979c",
   "metadata": {},
   "outputs": [
    {
     "data": {
      "text/plain": [
       "array([[[0.91349549, 0.44962501],\n",
       "        [0.69662112, 0.38763905],\n",
       "        [0.05105715, 0.66364126]],\n",
       "\n",
       "       [[0.36566056, 0.55277996],\n",
       "        [0.26658984, 0.20387608],\n",
       "        [0.29620495, 0.84186763]]])"
      ]
     },
     "execution_count": 233,
     "metadata": {},
     "output_type": "execute_result"
    }
   ],
   "source": [
    "np.random.random((2,3,2))"
   ]
  },
  {
   "cell_type": "code",
   "execution_count": 235,
   "id": "96891ecb-7b99-48bb-a4c5-0ada0ac7d5e5",
   "metadata": {},
   "outputs": [
    {
     "data": {
      "text/plain": [
       "2"
      ]
     },
     "execution_count": 235,
     "metadata": {},
     "output_type": "execute_result"
    }
   ],
   "source": [
    "np.random.randint(3)"
   ]
  },
  {
   "cell_type": "code",
   "execution_count": 238,
   "id": "a9ce5858-ba14-4ed7-8b7e-83f8062175fa",
   "metadata": {},
   "outputs": [
    {
     "data": {
      "text/plain": [
       "6"
      ]
     },
     "execution_count": 238,
     "metadata": {},
     "output_type": "execute_result"
    }
   ],
   "source": [
    "np.random.randint(2,29)"
   ]
  },
  {
   "cell_type": "code",
   "execution_count": 241,
   "id": "a4244a6b-8e08-4731-8e7a-765b7a820a90",
   "metadata": {},
   "outputs": [
    {
     "data": {
      "text/plain": [
       "array([12,  8, 13, 12, 14,  4, 18,  7], dtype=int32)"
      ]
     },
     "execution_count": 241,
     "metadata": {},
     "output_type": "execute_result"
    }
   ],
   "source": [
    "np.random.randint(2,23,8)"
   ]
  },
  {
   "cell_type": "code",
   "execution_count": 243,
   "id": "9282a23e-42bb-4350-8718-76ff026888d0",
   "metadata": {},
   "outputs": [
    {
     "data": {
      "text/plain": [
       "array([[[14, 18],\n",
       "        [30, 30],\n",
       "        [29, 16],\n",
       "        [13, 21]],\n",
       "\n",
       "       [[10, 16],\n",
       "        [26,  4],\n",
       "        [31, 15],\n",
       "        [31, 16]],\n",
       "\n",
       "       [[30, 28],\n",
       "        [14, 10],\n",
       "        [25, 31],\n",
       "        [12, 11]]], dtype=int32)"
      ]
     },
     "execution_count": 243,
     "metadata": {},
     "output_type": "execute_result"
    }
   ],
   "source": [
    "np.random.randint(2,32,(3,4,2))"
   ]
  },
  {
   "cell_type": "code",
   "execution_count": 245,
   "id": "31a2f2ba-6a2b-4f32-9a46-d0211ce5da81",
   "metadata": {},
   "outputs": [
    {
     "data": {
      "text/plain": [
       "array([[35, 28, 41],\n",
       "       [34, 13, 32]], dtype=int8)"
      ]
     },
     "execution_count": 245,
     "metadata": {},
     "output_type": "execute_result"
    }
   ],
   "source": [
    "np.random.randint(low = 3,high = 44,size = (2,3),dtype = np.int8)"
   ]
  },
  {
   "cell_type": "code",
   "execution_count": 249,
   "id": "15666954-2b85-43b0-8e75-b3cb9d77f932",
   "metadata": {},
   "outputs": [
    {
     "data": {
      "text/plain": [
       "6"
      ]
     },
     "execution_count": 249,
     "metadata": {},
     "output_type": "execute_result"
    }
   ],
   "source": [
    "np.random.randint(low = 10) # if high not provided then generate random numbers b/w 0 and low"
   ]
  },
  {
   "cell_type": "code",
   "execution_count": 251,
   "id": "ef470b77-71cc-4951-811c-710e8aae6859",
   "metadata": {},
   "outputs": [
    {
     "data": {
      "text/plain": [
       "2"
      ]
     },
     "execution_count": 251,
     "metadata": {},
     "output_type": "execute_result"
    }
   ],
   "source": [
    "np.random.randint(2,high = 3)"
   ]
  },
  {
   "cell_type": "code",
   "execution_count": 258,
   "id": "ecb106e8-29d0-41cb-9365-48d26e3201ef",
   "metadata": {},
   "outputs": [
    {
     "data": {
      "text/plain": [
       "array([[2, 2, 2, 2],\n",
       "       [2, 2, 2, 2]])"
      ]
     },
     "execution_count": 258,
     "metadata": {},
     "output_type": "execute_result"
    }
   ],
   "source": [
    "np.random.choice((2,3,4),(2,4),p = [1,0,0])"
   ]
  },
  {
   "cell_type": "code",
   "execution_count": 261,
   "id": "4a2b6848-0cf7-4424-81f0-3d3f43ad040f",
   "metadata": {},
   "outputs": [
    {
     "data": {
      "text/plain": [
       "array([[[3, 3, 3, 3],\n",
       "        [2, 2, 3, 3],\n",
       "        [2, 3, 3, 2]],\n",
       "\n",
       "       [[3, 3, 2, 3],\n",
       "        [8, 8, 3, 3],\n",
       "        [3, 3, 3, 3]]])"
      ]
     },
     "execution_count": 261,
     "metadata": {},
     "output_type": "execute_result"
    }
   ],
   "source": [
    "np.random.choice(a= [2,3,8],size = [2,3,4],replace = True,p = [0.2,0.7,0.1])"
   ]
  },
  {
   "cell_type": "code",
   "execution_count": 270,
   "id": "763f44c0-55af-4a82-935b-d755636a03a1",
   "metadata": {},
   "outputs": [
    {
     "data": {
      "text/plain": [
       "array([[9, 3, 2]])"
      ]
     },
     "execution_count": 270,
     "metadata": {},
     "output_type": "execute_result"
    }
   ],
   "source": [
    "np.random.choice(a = [2,4,8,3,9],size = [1,3],replace = False,p = [0.2,0.3,0.1,0.2,0.2]) # replace = True is default value and it genereated repated values"
   ]
  },
  {
   "cell_type": "code",
   "execution_count": 282,
   "id": "12a4959c-8dcf-4d6a-add0-8b395e3c9e2d",
   "metadata": {},
   "outputs": [
    {
     "data": {
      "text/plain": [
       "array([[4, 2],\n",
       "       [6, 4]])"
      ]
     },
     "execution_count": 282,
     "metadata": {},
     "output_type": "execute_result"
    }
   ],
   "source": [
    "np.random.choice([2,4,6,2],[2,2],[0.1,0.2,0.4,0.3])"
   ]
  },
  {
   "cell_type": "code",
   "execution_count": 280,
   "id": "f29b65ea-4aba-4040-bd24-b0320a13a29d",
   "metadata": {},
   "outputs": [
    {
     "data": {
      "text/plain": [
       "array([[3, 6],\n",
       "       [5, 2]])"
      ]
     },
     "execution_count": 280,
     "metadata": {},
     "output_type": "execute_result"
    }
   ],
   "source": [
    "np.random.choice([2,3,6,5],[2,2],False,[0.2,0.1,0.4,0.3])"
   ]
  },
  {
   "cell_type": "code",
   "execution_count": null,
   "id": "df012247-5dc8-4b37-b5ec-843a5928240c",
   "metadata": {},
   "outputs": [],
   "source": []
  },
  {
   "cell_type": "code",
   "execution_count": null,
   "id": "cfacb809-efe3-473e-95fa-4fcaf2a20de1",
   "metadata": {},
   "outputs": [],
   "source": []
  }
 ],
 "metadata": {
  "kernelspec": {
   "display_name": "Python 3 (ipykernel)",
   "language": "python",
   "name": "python3"
  },
  "language_info": {
   "codemirror_mode": {
    "name": "ipython",
    "version": 3
   },
   "file_extension": ".py",
   "mimetype": "text/x-python",
   "name": "python",
   "nbconvert_exporter": "python",
   "pygments_lexer": "ipython3",
   "version": "3.12.2"
  }
 },
 "nbformat": 4,
 "nbformat_minor": 5
}
