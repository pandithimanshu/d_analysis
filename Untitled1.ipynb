{
 "cells": [
  {
   "cell_type": "code",
   "execution_count": 7,
   "id": "410f48b6-bfac-4695-b3bf-2ed4bf6724f0",
   "metadata": {},
   "outputs": [],
   "source": [
    "import pandas as pd\n",
    "import numpy as np"
   ]
  },
  {
   "cell_type": "code",
   "execution_count": 8,
   "id": "cb601b13-9ec8-496b-bc24-a952f0f56fb3",
   "metadata": {},
   "outputs": [
    {
     "data": {
      "text/plain": [
       "0      2\n",
       "1      3\n",
       "2    643\n",
       "3     23\n",
       "dtype: int64"
      ]
     },
     "execution_count": 8,
     "metadata": {},
     "output_type": "execute_result"
    }
   ],
   "source": [
    "pd.Series([2,3,643,23])"
   ]
  },
  {
   "cell_type": "code",
   "execution_count": 10,
   "id": "b6bedee2-0b34-498d-b1bc-419c5b4ce9a9",
   "metadata": {},
   "outputs": [
    {
     "data": {
      "text/plain": [
       "0      2\n",
       "1      3\n",
       "2    643\n",
       "3     23\n",
       "Name: random series hai ye, dtype: int16"
      ]
     },
     "execution_count": 10,
     "metadata": {},
     "output_type": "execute_result"
    }
   ],
   "source": [
    "pd.Series([2,3,643,23],name = 'random series hai ye',dtype = np.int16)"
   ]
  },
  {
   "cell_type": "code",
   "execution_count": 16,
   "id": "129ce01a-f3e5-4507-8923-6774bea7c261",
   "metadata": {},
   "outputs": [
    {
     "data": {
      "text/plain": [
       "marks                   23\n",
       "name       Himanshu Sharma\n",
       "roll no                448\n",
       "dtype: object"
      ]
     },
     "execution_count": 16,
     "metadata": {},
     "output_type": "execute_result"
    }
   ],
   "source": [
    "him = pd.Series({\"marks\":23,\"name\": \"Himanshu Sharma\",\"roll no\": 448})\n",
    "him"
   ]
  },
  {
   "cell_type": "code",
   "execution_count": 17,
   "id": "567bb901-82e6-409c-a43f-5541228545a7",
   "metadata": {},
   "outputs": [
    {
     "data": {
      "text/plain": [
       "ram       22\n",
       "shyam    534\n",
       "karan    234\n",
       "rohan    252\n",
       "Name: baccho ke marks, dtype: int64"
      ]
     },
     "execution_count": 17,
     "metadata": {},
     "output_type": "execute_result"
    }
   ],
   "source": [
    "marks = pd.Series([22,534,234,252],index = ['ram','shyam','karan','rohan'],name = 'baccho ke marks')\n",
    "marks"
   ]
  },
  {
   "cell_type": "code",
   "execution_count": 18,
   "id": "0b20dd48-60c4-4c59-b992-9a963cf6a063",
   "metadata": {},
   "outputs": [
    {
     "data": {
      "text/plain": [
       "ram       22\n",
       "shyam    534\n",
       "karan    234\n",
       "rohan    252\n",
       "dtype: int64"
      ]
     },
     "execution_count": 18,
     "metadata": {},
     "output_type": "execute_result"
    }
   ],
   "source": [
    "pd.Series([22,534,234,252],['ram','shyam','karan','rohan'])"
   ]
  },
  {
   "cell_type": "code",
   "execution_count": 19,
   "id": "982269ea-11c4-48fe-84eb-c03ba13bf343",
   "metadata": {},
   "outputs": [
    {
     "data": {
      "text/plain": [
       "dtype('O')"
      ]
     },
     "execution_count": 19,
     "metadata": {},
     "output_type": "execute_result"
    }
   ],
   "source": [
    "him.dtype"
   ]
  },
  {
   "cell_type": "code",
   "execution_count": 20,
   "id": "b92c4dfc-864b-49f5-9eb4-275eaeec4105",
   "metadata": {},
   "outputs": [
    {
     "data": {
      "text/plain": [
       "dtype('int64')"
      ]
     },
     "execution_count": 20,
     "metadata": {},
     "output_type": "execute_result"
    }
   ],
   "source": [
    "marks.dtype"
   ]
  },
  {
   "cell_type": "code",
   "execution_count": 21,
   "id": "1b39a842-9e17-4492-a773-4d5f88b3d02f",
   "metadata": {},
   "outputs": [
    {
     "data": {
      "text/plain": [
       "3"
      ]
     },
     "execution_count": 21,
     "metadata": {},
     "output_type": "execute_result"
    }
   ],
   "source": [
    "him.size"
   ]
  },
  {
   "cell_type": "code",
   "execution_count": 22,
   "id": "7d42c0d8-0e16-4ff5-8f3e-5a897cb01c39",
   "metadata": {},
   "outputs": [
    {
     "data": {
      "text/plain": [
       "4"
      ]
     },
     "execution_count": 22,
     "metadata": {},
     "output_type": "execute_result"
    }
   ],
   "source": [
    "marks.size"
   ]
  },
  {
   "cell_type": "code",
   "execution_count": 23,
   "id": "43ed2331-4ccf-47fc-9cc5-521029d6dcfd",
   "metadata": {},
   "outputs": [],
   "source": [
    "him.name"
   ]
  },
  {
   "cell_type": "code",
   "execution_count": 24,
   "id": "b4123712-a776-4a64-9a0a-c872cc50f089",
   "metadata": {},
   "outputs": [
    {
     "data": {
      "text/plain": [
       "'baccho ke marks'"
      ]
     },
     "execution_count": 24,
     "metadata": {},
     "output_type": "execute_result"
    }
   ],
   "source": [
    "marks.name"
   ]
  },
  {
   "cell_type": "code",
   "execution_count": 25,
   "id": "5625b6a0-0c44-4209-8d35-de538d965855",
   "metadata": {},
   "outputs": [
    {
     "data": {
      "text/plain": [
       "Index(['marks', 'name', 'roll no'], dtype='object')"
      ]
     },
     "execution_count": 25,
     "metadata": {},
     "output_type": "execute_result"
    }
   ],
   "source": [
    "him.index"
   ]
  },
  {
   "cell_type": "code",
   "execution_count": 26,
   "id": "a008ac14-8ed0-4708-b11b-7ada6c8c7e10",
   "metadata": {},
   "outputs": [
    {
     "data": {
      "text/plain": [
       "array([23, 'Himanshu Sharma', 448], dtype=object)"
      ]
     },
     "execution_count": 26,
     "metadata": {},
     "output_type": "execute_result"
    }
   ],
   "source": [
    "him.values"
   ]
  },
  {
   "cell_type": "code",
   "execution_count": 27,
   "id": "2326b6ea-a008-4a24-96f7-097fed18d756",
   "metadata": {},
   "outputs": [
    {
     "data": {
      "text/plain": [
       "array([ 22, 534, 234, 252])"
      ]
     },
     "execution_count": 27,
     "metadata": {},
     "output_type": "execute_result"
    }
   ],
   "source": [
    "marks.values"
   ]
  },
  {
   "cell_type": "code",
   "execution_count": 28,
   "id": "f24ff29b-8f81-4f8f-a986-0f4f7bfd55df",
   "metadata": {},
   "outputs": [
    {
     "data": {
      "text/plain": [
       "Index(['ram', 'shyam', 'karan', 'rohan'], dtype='object')"
      ]
     },
     "execution_count": 28,
     "metadata": {},
     "output_type": "execute_result"
    }
   ],
   "source": [
    "marks.index"
   ]
  },
  {
   "cell_type": "code",
   "execution_count": 29,
   "id": "d9e46e1c-bdaa-4b12-82d5-dcd0909bca5e",
   "metadata": {},
   "outputs": [
    {
     "data": {
      "text/plain": [
       "True"
      ]
     },
     "execution_count": 29,
     "metadata": {},
     "output_type": "execute_result"
    }
   ],
   "source": [
    "marks.is_unique"
   ]
  },
  {
   "cell_type": "code",
   "execution_count": 30,
   "id": "3ae6bb9d-6b5f-4e05-8352-a3507c4053c5",
   "metadata": {},
   "outputs": [
    {
     "data": {
      "text/plain": [
       "True"
      ]
     },
     "execution_count": 30,
     "metadata": {},
     "output_type": "execute_result"
    }
   ],
   "source": [
    "him.is_unique"
   ]
  },
  {
   "cell_type": "code",
   "execution_count": null,
   "id": "2cbab178-430b-4c7d-a6c4-14585cd08251",
   "metadata": {},
   "outputs": [],
   "source": []
  }
 ],
 "metadata": {
  "kernelspec": {
   "display_name": "Python 3 (ipykernel)",
   "language": "python",
   "name": "python3"
  },
  "language_info": {
   "codemirror_mode": {
    "name": "ipython",
    "version": 3
   },
   "file_extension": ".py",
   "mimetype": "text/x-python",
   "name": "python",
   "nbconvert_exporter": "python",
   "pygments_lexer": "ipython3",
   "version": "3.12.2"
  }
 },
 "nbformat": 4,
 "nbformat_minor": 5
}
