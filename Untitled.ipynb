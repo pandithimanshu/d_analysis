{
 "cells": [
  {
   "cell_type": "code",
   "execution_count": 2,
   "id": "5d04f85d-247e-4777-a9ae-e9aa28ab450e",
   "metadata": {},
   "outputs": [],
   "source": [
    "import pandas as pd\n",
    "import numpy as np\n"
   ]
  },
  {
   "cell_type": "code",
   "execution_count": 3,
   "id": "d6a3b9de-bbc8-4de6-bc03-b7cd43f35883",
   "metadata": {},
   "outputs": [],
   "source": [
    "games_url = 'https://andybek.com/pandas-games'"
   ]
  },
  {
   "cell_type": "code",
   "execution_count": 4,
   "id": "da3f5a38-a749-496e-b23f-621caddb15e7",
   "metadata": {},
   "outputs": [],
   "source": [
    "games = pd.read_csv(games_url)"
   ]
  },
  {
   "cell_type": "code",
   "execution_count": 5,
   "id": "9664df38-cdf9-46b5-9a62-69d957d6836a",
   "metadata": {},
   "outputs": [
    {
     "name": "stdout",
     "output_type": "stream",
     "text": [
      "<class 'pandas.core.frame.DataFrame'>\n",
      "RangeIndex: 3143 entries, 0 to 3142\n",
      "Data columns (total 10 columns):\n",
      " #   Column        Non-Null Count  Dtype  \n",
      "---  ------        --------------  -----  \n",
      " 0   Name          3143 non-null   object \n",
      " 1   Platform      3143 non-null   object \n",
      " 2   Year          3088 non-null   float64\n",
      " 3   Genre         3143 non-null   object \n",
      " 4   Publisher     3136 non-null   object \n",
      " 5   NA_Sales      3143 non-null   float64\n",
      " 6   EU_Sales      3143 non-null   float64\n",
      " 7   JP_Sales      3143 non-null   float64\n",
      " 8   Other_Sales   3143 non-null   float64\n",
      " 9   Global_Sales  3143 non-null   float64\n",
      "dtypes: float64(6), object(4)\n",
      "memory usage: 245.7+ KB\n"
     ]
    }
   ],
   "source": [
    "games.info()"
   ]
  },
  {
   "cell_type": "code",
   "execution_count": 16,
   "id": "e3eabb3d-f171-4e58-b567-d9fc179c0604",
   "metadata": {},
   "outputs": [],
   "source": [
    "gamesdf = pd.DataFrame(games)\n",
    "mynewdf = gamesdf.loc[:,['Year','Platform','NA_Sales','EU_Sales','JP_Sales','Other_Sales']]"
   ]
  },
  {
   "cell_type": "code",
   "execution_count": 17,
   "id": "c19492cf-d28a-42b0-b38b-b63131455853",
   "metadata": {},
   "outputs": [
    {
     "data": {
      "text/html": [
       "<div>\n",
       "<style scoped>\n",
       "    .dataframe tbody tr th:only-of-type {\n",
       "        vertical-align: middle;\n",
       "    }\n",
       "\n",
       "    .dataframe tbody tr th {\n",
       "        vertical-align: top;\n",
       "    }\n",
       "\n",
       "    .dataframe thead th {\n",
       "        text-align: right;\n",
       "    }\n",
       "</style>\n",
       "<table border=\"1\" class=\"dataframe\">\n",
       "  <thead>\n",
       "    <tr style=\"text-align: right;\">\n",
       "      <th></th>\n",
       "      <th>Year</th>\n",
       "      <th>Platform</th>\n",
       "      <th>NA_Sales</th>\n",
       "      <th>EU_Sales</th>\n",
       "      <th>JP_Sales</th>\n",
       "      <th>Other_Sales</th>\n",
       "    </tr>\n",
       "  </thead>\n",
       "  <tbody>\n",
       "    <tr>\n",
       "      <th>0</th>\n",
       "      <td>2010.0</td>\n",
       "      <td>X360</td>\n",
       "      <td>14.97</td>\n",
       "      <td>4.94</td>\n",
       "      <td>0.24</td>\n",
       "      <td>1.67</td>\n",
       "    </tr>\n",
       "    <tr>\n",
       "      <th>1</th>\n",
       "      <td>2013.0</td>\n",
       "      <td>PS3</td>\n",
       "      <td>7.01</td>\n",
       "      <td>9.27</td>\n",
       "      <td>0.97</td>\n",
       "      <td>4.14</td>\n",
       "    </tr>\n",
       "    <tr>\n",
       "      <th>2</th>\n",
       "      <td>2013.0</td>\n",
       "      <td>X360</td>\n",
       "      <td>9.63</td>\n",
       "      <td>5.31</td>\n",
       "      <td>0.06</td>\n",
       "      <td>1.38</td>\n",
       "    </tr>\n",
       "    <tr>\n",
       "      <th>3</th>\n",
       "      <td>2011.0</td>\n",
       "      <td>X360</td>\n",
       "      <td>9.03</td>\n",
       "      <td>4.28</td>\n",
       "      <td>0.13</td>\n",
       "      <td>1.32</td>\n",
       "    </tr>\n",
       "    <tr>\n",
       "      <th>4</th>\n",
       "      <td>2010.0</td>\n",
       "      <td>X360</td>\n",
       "      <td>9.67</td>\n",
       "      <td>3.73</td>\n",
       "      <td>0.11</td>\n",
       "      <td>1.13</td>\n",
       "    </tr>\n",
       "    <tr>\n",
       "      <th>...</th>\n",
       "      <td>...</td>\n",
       "      <td>...</td>\n",
       "      <td>...</td>\n",
       "      <td>...</td>\n",
       "      <td>...</td>\n",
       "      <td>...</td>\n",
       "    </tr>\n",
       "    <tr>\n",
       "      <th>3138</th>\n",
       "      <td>2014.0</td>\n",
       "      <td>X360</td>\n",
       "      <td>0.00</td>\n",
       "      <td>0.01</td>\n",
       "      <td>0.00</td>\n",
       "      <td>0.00</td>\n",
       "    </tr>\n",
       "    <tr>\n",
       "      <th>3139</th>\n",
       "      <td>2016.0</td>\n",
       "      <td>XOne</td>\n",
       "      <td>0.01</td>\n",
       "      <td>0.00</td>\n",
       "      <td>0.00</td>\n",
       "      <td>0.00</td>\n",
       "    </tr>\n",
       "    <tr>\n",
       "      <th>3140</th>\n",
       "      <td>2016.0</td>\n",
       "      <td>XOne</td>\n",
       "      <td>0.01</td>\n",
       "      <td>0.00</td>\n",
       "      <td>0.00</td>\n",
       "      <td>0.00</td>\n",
       "    </tr>\n",
       "    <tr>\n",
       "      <th>3141</th>\n",
       "      <td>2016.0</td>\n",
       "      <td>PS4</td>\n",
       "      <td>0.00</td>\n",
       "      <td>0.01</td>\n",
       "      <td>0.00</td>\n",
       "      <td>0.00</td>\n",
       "    </tr>\n",
       "    <tr>\n",
       "      <th>3142</th>\n",
       "      <td>2016.0</td>\n",
       "      <td>XOne</td>\n",
       "      <td>0.00</td>\n",
       "      <td>0.01</td>\n",
       "      <td>0.00</td>\n",
       "      <td>0.00</td>\n",
       "    </tr>\n",
       "  </tbody>\n",
       "</table>\n",
       "<p>3143 rows × 6 columns</p>\n",
       "</div>"
      ],
      "text/plain": [
       "        Year Platform  NA_Sales  EU_Sales  JP_Sales  Other_Sales\n",
       "0     2010.0     X360     14.97      4.94      0.24         1.67\n",
       "1     2013.0      PS3      7.01      9.27      0.97         4.14\n",
       "2     2013.0     X360      9.63      5.31      0.06         1.38\n",
       "3     2011.0     X360      9.03      4.28      0.13         1.32\n",
       "4     2010.0     X360      9.67      3.73      0.11         1.13\n",
       "...      ...      ...       ...       ...       ...          ...\n",
       "3138  2014.0     X360      0.00      0.01      0.00         0.00\n",
       "3139  2016.0     XOne      0.01      0.00      0.00         0.00\n",
       "3140  2016.0     XOne      0.01      0.00      0.00         0.00\n",
       "3141  2016.0      PS4      0.00      0.01      0.00         0.00\n",
       "3142  2016.0     XOne      0.00      0.01      0.00         0.00\n",
       "\n",
       "[3143 rows x 6 columns]"
      ]
     },
     "execution_count": 17,
     "metadata": {},
     "output_type": "execute_result"
    }
   ],
   "source": [
    "mynewdf"
   ]
  },
  {
   "cell_type": "code",
   "execution_count": 31,
   "id": "36482042-a702-4865-a472-bd72127ec78f",
   "metadata": {},
   "outputs": [
    {
     "data": {
      "text/html": [
       "<div>\n",
       "<style scoped>\n",
       "    .dataframe tbody tr th:only-of-type {\n",
       "        vertical-align: middle;\n",
       "    }\n",
       "\n",
       "    .dataframe tbody tr th {\n",
       "        vertical-align: top;\n",
       "    }\n",
       "\n",
       "    .dataframe thead th {\n",
       "        text-align: right;\n",
       "    }\n",
       "</style>\n",
       "<table border=\"1\" class=\"dataframe\">\n",
       "  <thead>\n",
       "    <tr style=\"text-align: right;\">\n",
       "      <th></th>\n",
       "      <th>Year</th>\n",
       "      <th>Platform</th>\n",
       "      <th>NA_Sales</th>\n",
       "      <th>EU_Sales</th>\n",
       "      <th>JP_Sales</th>\n",
       "      <th>Other_Sales</th>\n",
       "    </tr>\n",
       "  </thead>\n",
       "  <tbody>\n",
       "    <tr>\n",
       "      <th>2</th>\n",
       "      <td>2013.0</td>\n",
       "      <td>X360</td>\n",
       "      <td>9.63</td>\n",
       "      <td>5.31</td>\n",
       "      <td>0.06</td>\n",
       "      <td>1.38</td>\n",
       "    </tr>\n",
       "    <tr>\n",
       "      <th>17</th>\n",
       "      <td>2013.0</td>\n",
       "      <td>X360</td>\n",
       "      <td>6.72</td>\n",
       "      <td>2.63</td>\n",
       "      <td>0.04</td>\n",
       "      <td>0.82</td>\n",
       "    </tr>\n",
       "    <tr>\n",
       "      <th>22</th>\n",
       "      <td>2013.0</td>\n",
       "      <td>X360</td>\n",
       "      <td>5.58</td>\n",
       "      <td>2.83</td>\n",
       "      <td>0.02</td>\n",
       "      <td>0.77</td>\n",
       "    </tr>\n",
       "    <tr>\n",
       "      <th>81</th>\n",
       "      <td>2013.0</td>\n",
       "      <td>X360</td>\n",
       "      <td>0.92</td>\n",
       "      <td>2.93</td>\n",
       "      <td>0.01</td>\n",
       "      <td>0.46</td>\n",
       "    </tr>\n",
       "    <tr>\n",
       "      <th>82</th>\n",
       "      <td>2014.0</td>\n",
       "      <td>X360</td>\n",
       "      <td>2.75</td>\n",
       "      <td>1.18</td>\n",
       "      <td>0.00</td>\n",
       "      <td>0.37</td>\n",
       "    </tr>\n",
       "    <tr>\n",
       "      <th>...</th>\n",
       "      <td>...</td>\n",
       "      <td>...</td>\n",
       "      <td>...</td>\n",
       "      <td>...</td>\n",
       "      <td>...</td>\n",
       "      <td>...</td>\n",
       "    </tr>\n",
       "    <tr>\n",
       "      <th>3088</th>\n",
       "      <td>2014.0</td>\n",
       "      <td>X360</td>\n",
       "      <td>0.01</td>\n",
       "      <td>0.00</td>\n",
       "      <td>0.00</td>\n",
       "      <td>0.00</td>\n",
       "    </tr>\n",
       "    <tr>\n",
       "      <th>3089</th>\n",
       "      <td>2013.0</td>\n",
       "      <td>X360</td>\n",
       "      <td>0.00</td>\n",
       "      <td>0.00</td>\n",
       "      <td>0.01</td>\n",
       "      <td>0.00</td>\n",
       "    </tr>\n",
       "    <tr>\n",
       "      <th>3113</th>\n",
       "      <td>2015.0</td>\n",
       "      <td>X360</td>\n",
       "      <td>0.00</td>\n",
       "      <td>0.01</td>\n",
       "      <td>0.00</td>\n",
       "      <td>0.00</td>\n",
       "    </tr>\n",
       "    <tr>\n",
       "      <th>3127</th>\n",
       "      <td>2015.0</td>\n",
       "      <td>X360</td>\n",
       "      <td>0.00</td>\n",
       "      <td>0.01</td>\n",
       "      <td>0.00</td>\n",
       "      <td>0.00</td>\n",
       "    </tr>\n",
       "    <tr>\n",
       "      <th>3138</th>\n",
       "      <td>2014.0</td>\n",
       "      <td>X360</td>\n",
       "      <td>0.00</td>\n",
       "      <td>0.01</td>\n",
       "      <td>0.00</td>\n",
       "      <td>0.00</td>\n",
       "    </tr>\n",
       "  </tbody>\n",
       "</table>\n",
       "<p>188 rows × 6 columns</p>\n",
       "</div>"
      ],
      "text/plain": [
       "        Year Platform  NA_Sales  EU_Sales  JP_Sales  Other_Sales\n",
       "2     2013.0     X360      9.63      5.31      0.06         1.38\n",
       "17    2013.0     X360      6.72      2.63      0.04         0.82\n",
       "22    2013.0     X360      5.58      2.83      0.02         0.77\n",
       "81    2013.0     X360      0.92      2.93      0.01         0.46\n",
       "82    2014.0     X360      2.75      1.18      0.00         0.37\n",
       "...      ...      ...       ...       ...       ...          ...\n",
       "3088  2014.0     X360      0.01      0.00      0.00         0.00\n",
       "3089  2013.0     X360      0.00      0.00      0.01         0.00\n",
       "3113  2015.0     X360      0.00      0.01      0.00         0.00\n",
       "3127  2015.0     X360      0.00      0.01      0.00         0.00\n",
       "3138  2014.0     X360      0.00      0.01      0.00         0.00\n",
       "\n",
       "[188 rows x 6 columns]"
      ]
     },
     "execution_count": 31,
     "metadata": {},
     "output_type": "execute_result"
    }
   ],
   "source": [
    "yearfilter = mynewdf[(mynewdf[\"Platform\"] =='X360') & (mynewdf[\"Year\"].between(2013,2016))]\n",
    "yearfilter"
   ]
  },
  {
   "cell_type": "code",
   "execution_count": 32,
   "id": "7794e215-d3e1-47b5-b1c5-5c0bc1914974",
   "metadata": {},
   "outputs": [],
   "source": [
    "mysum = yearfilter.sum()"
   ]
  },
  {
   "cell_type": "code",
   "execution_count": 33,
   "id": "d8d68fb4-6463-42c5-be31-38e8cfadfd2d",
   "metadata": {},
   "outputs": [
    {
     "data": {
      "text/plain": [
       "Year                                                    378613.0\n",
       "Platform       X360X360X360X360X360X360X360X360X360X360X360X3...\n",
       "NA_Sales                                                   80.69\n",
       "EU_Sales                                                   46.81\n",
       "JP_Sales                                                    0.51\n",
       "Other_Sales                                                11.83\n",
       "dtype: object"
      ]
     },
     "execution_count": 33,
     "metadata": {},
     "output_type": "execute_result"
    }
   ],
   "source": [
    "mysum"
   ]
  },
  {
   "cell_type": "markdown",
   "id": "cf0142b5-3c99-47aa-813f-5913014f117d",
   "metadata": {},
   "source": [
    "Group By"
   ]
  },
  {
   "cell_type": "code",
   "execution_count": 35,
   "id": "dc46ffa2-d84f-4e13-9c03-b98d2f556751",
   "metadata": {},
   "outputs": [],
   "source": [
    "import seaborn as sns"
   ]
  },
  {
   "cell_type": "code",
   "execution_count": 36,
   "id": "33280652-d80b-4414-9514-272f3981dde4",
   "metadata": {},
   "outputs": [],
   "source": [
    "titanic = sns.load_dataset('titanic')"
   ]
  },
  {
   "cell_type": "code",
   "execution_count": 37,
   "id": "d68000be-9bd6-4e64-ae5d-d25d31b83657",
   "metadata": {},
   "outputs": [
    {
     "name": "stdout",
     "output_type": "stream",
     "text": [
      "   survived  pclass     sex   age  sibsp  parch     fare embarked  class  \\\n",
      "0         0       3    male  22.0      1      0   7.2500        S  Third   \n",
      "1         1       1  female  38.0      1      0  71.2833        C  First   \n",
      "2         1       3  female  26.0      0      0   7.9250        S  Third   \n",
      "3         1       1  female  35.0      1      0  53.1000        S  First   \n",
      "4         0       3    male  35.0      0      0   8.0500        S  Third   \n",
      "\n",
      "     who  adult_male deck  embark_town alive  alone  \n",
      "0    man        True  NaN  Southampton    no  False  \n",
      "1  woman       False    C    Cherbourg   yes  False  \n",
      "2  woman       False  NaN  Southampton   yes   True  \n",
      "3  woman       False    C  Southampton   yes  False  \n",
      "4    man        True  NaN  Southampton    no   True  \n"
     ]
    }
   ],
   "source": [
    "print(titanic.head())"
   ]
  },
  {
   "cell_type": "code",
   "execution_count": 38,
   "id": "988bde78-2e4c-40ff-98ea-f74a3e016a0d",
   "metadata": {},
   "outputs": [
    {
     "data": {
      "text/plain": [
       "pclass  sex   \n",
       "1       female    63.0\n",
       "        male      80.0\n",
       "2       female    57.0\n",
       "        male      70.0\n",
       "3       female    63.0\n",
       "        male      74.0\n",
       "Name: age, dtype: float64"
      ]
     },
     "execution_count": 38,
     "metadata": {},
     "output_type": "execute_result"
    }
   ],
   "source": [
    "titanic.groupby(['pclass','sex'])['age'].max()"
   ]
  },
  {
   "cell_type": "code",
   "execution_count": 39,
   "id": "a71ecccf-bbe3-4a07-9d0d-bbb1c8f2e1ff",
   "metadata": {},
   "outputs": [
    {
     "data": {
      "text/plain": [
       "sex     pclass\n",
       "female  1         91\n",
       "        2         70\n",
       "        3         72\n",
       "male    1         45\n",
       "        2         17\n",
       "        3         47\n",
       "Name: survived, dtype: int64"
      ]
     },
     "execution_count": 39,
     "metadata": {},
     "output_type": "execute_result"
    }
   ],
   "source": [
    "titanic.groupby(['sex','pclass'])['survived'].sum()"
   ]
  },
  {
   "cell_type": "code",
   "execution_count": 40,
   "id": "6ba72033-8e55-418d-9577-08cf81f1afb9",
   "metadata": {},
   "outputs": [
    {
     "data": {
      "text/plain": [
       "sex\n",
       "female    233\n",
       "male      109\n",
       "Name: survived, dtype: int64"
      ]
     },
     "execution_count": 40,
     "metadata": {},
     "output_type": "execute_result"
    }
   ],
   "source": [
    "titanic.groupby(['sex'])['survived'].sum()"
   ]
  },
  {
   "cell_type": "code",
   "execution_count": 42,
   "id": "3fbb09d3-d04e-4aca-8dbe-db68eb71a70e",
   "metadata": {},
   "outputs": [
    {
     "data": {
      "text/plain": [
       "0       7.2500\n",
       "1      71.2833\n",
       "2       7.9250\n",
       "3      53.1000\n",
       "4       8.0500\n",
       "        ...   \n",
       "886    13.0000\n",
       "887    30.0000\n",
       "888    23.4500\n",
       "889    30.0000\n",
       "890     7.7500\n",
       "Name: fare, Length: 891, dtype: float64"
      ]
     },
     "execution_count": 42,
     "metadata": {},
     "output_type": "execute_result"
    }
   ],
   "source": [
    "titanic['fare']"
   ]
  },
  {
   "cell_type": "code",
   "execution_count": 44,
   "id": "9a3c4fe0-439e-49a7-a8a3-3a130ecc6312",
   "metadata": {},
   "outputs": [
    {
     "data": {
      "text/plain": [
       "sex     pclass\n",
       "female  1         9975.8250\n",
       "        2         1669.7292\n",
       "        3         2321.1086\n",
       "male    1         8201.5875\n",
       "        2         2132.1125\n",
       "        3         4393.5865\n",
       "Name: fare, dtype: float64"
      ]
     },
     "execution_count": 44,
     "metadata": {},
     "output_type": "execute_result"
    }
   ],
   "source": [
    "titanic['fare'].groupby([titanic['sex'],titanic['pclass']]).sum()"
   ]
  },
  {
   "cell_type": "code",
   "execution_count": 45,
   "id": "b1e7d5a2-eb67-46e4-b957-bbd8f96b088e",
   "metadata": {},
   "outputs": [],
   "source": [
    "yearfilter = mynewdf[(mynewdf[\"Platform\"] =='X360') & (mynewdf[\"Year\"].between(2013,2016))]"
   ]
  },
  {
   "cell_type": "code",
   "execution_count": 46,
   "id": "a057b064-a8a3-4322-930b-3928401c40e4",
   "metadata": {},
   "outputs": [
    {
     "data": {
      "text/html": [
       "<div>\n",
       "<style scoped>\n",
       "    .dataframe tbody tr th:only-of-type {\n",
       "        vertical-align: middle;\n",
       "    }\n",
       "\n",
       "    .dataframe tbody tr th {\n",
       "        vertical-align: top;\n",
       "    }\n",
       "\n",
       "    .dataframe thead th {\n",
       "        text-align: right;\n",
       "    }\n",
       "</style>\n",
       "<table border=\"1\" class=\"dataframe\">\n",
       "  <thead>\n",
       "    <tr style=\"text-align: right;\">\n",
       "      <th></th>\n",
       "      <th>Year</th>\n",
       "      <th>Platform</th>\n",
       "      <th>NA_Sales</th>\n",
       "      <th>EU_Sales</th>\n",
       "      <th>JP_Sales</th>\n",
       "      <th>Other_Sales</th>\n",
       "    </tr>\n",
       "  </thead>\n",
       "  <tbody>\n",
       "    <tr>\n",
       "      <th>2</th>\n",
       "      <td>2013.0</td>\n",
       "      <td>X360</td>\n",
       "      <td>9.63</td>\n",
       "      <td>5.31</td>\n",
       "      <td>0.06</td>\n",
       "      <td>1.38</td>\n",
       "    </tr>\n",
       "    <tr>\n",
       "      <th>17</th>\n",
       "      <td>2013.0</td>\n",
       "      <td>X360</td>\n",
       "      <td>6.72</td>\n",
       "      <td>2.63</td>\n",
       "      <td>0.04</td>\n",
       "      <td>0.82</td>\n",
       "    </tr>\n",
       "    <tr>\n",
       "      <th>22</th>\n",
       "      <td>2013.0</td>\n",
       "      <td>X360</td>\n",
       "      <td>5.58</td>\n",
       "      <td>2.83</td>\n",
       "      <td>0.02</td>\n",
       "      <td>0.77</td>\n",
       "    </tr>\n",
       "    <tr>\n",
       "      <th>81</th>\n",
       "      <td>2013.0</td>\n",
       "      <td>X360</td>\n",
       "      <td>0.92</td>\n",
       "      <td>2.93</td>\n",
       "      <td>0.01</td>\n",
       "      <td>0.46</td>\n",
       "    </tr>\n",
       "    <tr>\n",
       "      <th>82</th>\n",
       "      <td>2014.0</td>\n",
       "      <td>X360</td>\n",
       "      <td>2.75</td>\n",
       "      <td>1.18</td>\n",
       "      <td>0.00</td>\n",
       "      <td>0.37</td>\n",
       "    </tr>\n",
       "    <tr>\n",
       "      <th>...</th>\n",
       "      <td>...</td>\n",
       "      <td>...</td>\n",
       "      <td>...</td>\n",
       "      <td>...</td>\n",
       "      <td>...</td>\n",
       "      <td>...</td>\n",
       "    </tr>\n",
       "    <tr>\n",
       "      <th>3088</th>\n",
       "      <td>2014.0</td>\n",
       "      <td>X360</td>\n",
       "      <td>0.01</td>\n",
       "      <td>0.00</td>\n",
       "      <td>0.00</td>\n",
       "      <td>0.00</td>\n",
       "    </tr>\n",
       "    <tr>\n",
       "      <th>3089</th>\n",
       "      <td>2013.0</td>\n",
       "      <td>X360</td>\n",
       "      <td>0.00</td>\n",
       "      <td>0.00</td>\n",
       "      <td>0.01</td>\n",
       "      <td>0.00</td>\n",
       "    </tr>\n",
       "    <tr>\n",
       "      <th>3113</th>\n",
       "      <td>2015.0</td>\n",
       "      <td>X360</td>\n",
       "      <td>0.00</td>\n",
       "      <td>0.01</td>\n",
       "      <td>0.00</td>\n",
       "      <td>0.00</td>\n",
       "    </tr>\n",
       "    <tr>\n",
       "      <th>3127</th>\n",
       "      <td>2015.0</td>\n",
       "      <td>X360</td>\n",
       "      <td>0.00</td>\n",
       "      <td>0.01</td>\n",
       "      <td>0.00</td>\n",
       "      <td>0.00</td>\n",
       "    </tr>\n",
       "    <tr>\n",
       "      <th>3138</th>\n",
       "      <td>2014.0</td>\n",
       "      <td>X360</td>\n",
       "      <td>0.00</td>\n",
       "      <td>0.01</td>\n",
       "      <td>0.00</td>\n",
       "      <td>0.00</td>\n",
       "    </tr>\n",
       "  </tbody>\n",
       "</table>\n",
       "<p>188 rows × 6 columns</p>\n",
       "</div>"
      ],
      "text/plain": [
       "        Year Platform  NA_Sales  EU_Sales  JP_Sales  Other_Sales\n",
       "2     2013.0     X360      9.63      5.31      0.06         1.38\n",
       "17    2013.0     X360      6.72      2.63      0.04         0.82\n",
       "22    2013.0     X360      5.58      2.83      0.02         0.77\n",
       "81    2013.0     X360      0.92      2.93      0.01         0.46\n",
       "82    2014.0     X360      2.75      1.18      0.00         0.37\n",
       "...      ...      ...       ...       ...       ...          ...\n",
       "3088  2014.0     X360      0.01      0.00      0.00         0.00\n",
       "3089  2013.0     X360      0.00      0.00      0.01         0.00\n",
       "3113  2015.0     X360      0.00      0.01      0.00         0.00\n",
       "3127  2015.0     X360      0.00      0.01      0.00         0.00\n",
       "3138  2014.0     X360      0.00      0.01      0.00         0.00\n",
       "\n",
       "[188 rows x 6 columns]"
      ]
     },
     "execution_count": 46,
     "metadata": {},
     "output_type": "execute_result"
    }
   ],
   "source": [
    "yearfilter"
   ]
  },
  {
   "cell_type": "code",
   "execution_count": 47,
   "id": "dd3f605a-35d4-4b68-be08-db49ab8f1349",
   "metadata": {},
   "outputs": [
    {
     "data": {
      "text/html": [
       "<div>\n",
       "<style scoped>\n",
       "    .dataframe tbody tr th:only-of-type {\n",
       "        vertical-align: middle;\n",
       "    }\n",
       "\n",
       "    .dataframe tbody tr th {\n",
       "        vertical-align: top;\n",
       "    }\n",
       "\n",
       "    .dataframe thead th {\n",
       "        text-align: right;\n",
       "    }\n",
       "</style>\n",
       "<table border=\"1\" class=\"dataframe\">\n",
       "  <thead>\n",
       "    <tr style=\"text-align: right;\">\n",
       "      <th></th>\n",
       "      <th>Year</th>\n",
       "      <th>Platform</th>\n",
       "      <th>NA_Sales</th>\n",
       "      <th>EU_Sales</th>\n",
       "      <th>JP_Sales</th>\n",
       "      <th>Other_Sales</th>\n",
       "    </tr>\n",
       "  </thead>\n",
       "  <tbody>\n",
       "    <tr>\n",
       "      <th>0</th>\n",
       "      <td>2010.0</td>\n",
       "      <td>X360</td>\n",
       "      <td>14.97</td>\n",
       "      <td>4.94</td>\n",
       "      <td>0.24</td>\n",
       "      <td>1.67</td>\n",
       "    </tr>\n",
       "    <tr>\n",
       "      <th>1</th>\n",
       "      <td>2013.0</td>\n",
       "      <td>PS3</td>\n",
       "      <td>7.01</td>\n",
       "      <td>9.27</td>\n",
       "      <td>0.97</td>\n",
       "      <td>4.14</td>\n",
       "    </tr>\n",
       "    <tr>\n",
       "      <th>2</th>\n",
       "      <td>2013.0</td>\n",
       "      <td>X360</td>\n",
       "      <td>9.63</td>\n",
       "      <td>5.31</td>\n",
       "      <td>0.06</td>\n",
       "      <td>1.38</td>\n",
       "    </tr>\n",
       "    <tr>\n",
       "      <th>3</th>\n",
       "      <td>2011.0</td>\n",
       "      <td>X360</td>\n",
       "      <td>9.03</td>\n",
       "      <td>4.28</td>\n",
       "      <td>0.13</td>\n",
       "      <td>1.32</td>\n",
       "    </tr>\n",
       "    <tr>\n",
       "      <th>4</th>\n",
       "      <td>2010.0</td>\n",
       "      <td>X360</td>\n",
       "      <td>9.67</td>\n",
       "      <td>3.73</td>\n",
       "      <td>0.11</td>\n",
       "      <td>1.13</td>\n",
       "    </tr>\n",
       "    <tr>\n",
       "      <th>...</th>\n",
       "      <td>...</td>\n",
       "      <td>...</td>\n",
       "      <td>...</td>\n",
       "      <td>...</td>\n",
       "      <td>...</td>\n",
       "      <td>...</td>\n",
       "    </tr>\n",
       "    <tr>\n",
       "      <th>3138</th>\n",
       "      <td>2014.0</td>\n",
       "      <td>X360</td>\n",
       "      <td>0.00</td>\n",
       "      <td>0.01</td>\n",
       "      <td>0.00</td>\n",
       "      <td>0.00</td>\n",
       "    </tr>\n",
       "    <tr>\n",
       "      <th>3139</th>\n",
       "      <td>2016.0</td>\n",
       "      <td>XOne</td>\n",
       "      <td>0.01</td>\n",
       "      <td>0.00</td>\n",
       "      <td>0.00</td>\n",
       "      <td>0.00</td>\n",
       "    </tr>\n",
       "    <tr>\n",
       "      <th>3140</th>\n",
       "      <td>2016.0</td>\n",
       "      <td>XOne</td>\n",
       "      <td>0.01</td>\n",
       "      <td>0.00</td>\n",
       "      <td>0.00</td>\n",
       "      <td>0.00</td>\n",
       "    </tr>\n",
       "    <tr>\n",
       "      <th>3141</th>\n",
       "      <td>2016.0</td>\n",
       "      <td>PS4</td>\n",
       "      <td>0.00</td>\n",
       "      <td>0.01</td>\n",
       "      <td>0.00</td>\n",
       "      <td>0.00</td>\n",
       "    </tr>\n",
       "    <tr>\n",
       "      <th>3142</th>\n",
       "      <td>2016.0</td>\n",
       "      <td>XOne</td>\n",
       "      <td>0.00</td>\n",
       "      <td>0.01</td>\n",
       "      <td>0.00</td>\n",
       "      <td>0.00</td>\n",
       "    </tr>\n",
       "  </tbody>\n",
       "</table>\n",
       "<p>3143 rows × 6 columns</p>\n",
       "</div>"
      ],
      "text/plain": [
       "        Year Platform  NA_Sales  EU_Sales  JP_Sales  Other_Sales\n",
       "0     2010.0     X360     14.97      4.94      0.24         1.67\n",
       "1     2013.0      PS3      7.01      9.27      0.97         4.14\n",
       "2     2013.0     X360      9.63      5.31      0.06         1.38\n",
       "3     2011.0     X360      9.03      4.28      0.13         1.32\n",
       "4     2010.0     X360      9.67      3.73      0.11         1.13\n",
       "...      ...      ...       ...       ...       ...          ...\n",
       "3138  2014.0     X360      0.00      0.01      0.00         0.00\n",
       "3139  2016.0     XOne      0.01      0.00      0.00         0.00\n",
       "3140  2016.0     XOne      0.01      0.00      0.00         0.00\n",
       "3141  2016.0      PS4      0.00      0.01      0.00         0.00\n",
       "3142  2016.0     XOne      0.00      0.01      0.00         0.00\n",
       "\n",
       "[3143 rows x 6 columns]"
      ]
     },
     "execution_count": 47,
     "metadata": {},
     "output_type": "execute_result"
    }
   ],
   "source": [
    "mynewdf"
   ]
  },
  {
   "cell_type": "code",
   "execution_count": null,
   "id": "7e28b53f-6c56-458b-a248-a2a04faf5894",
   "metadata": {},
   "outputs": [],
   "source": [
    "#groupby se kro es question ko \n"
   ]
  },
  {
   "cell_type": "code",
   "execution_count": null,
   "id": "9707017a-8bbe-40e6-a820-48716adb8dcd",
   "metadata": {},
   "outputs": [],
   "source": [
    "# Q. "
   ]
  },
  {
   "cell_type": "code",
   "execution_count": 69,
   "id": "8c7db5b7-72ca-4224-b0f6-2ef0ae48b025",
   "metadata": {},
   "outputs": [],
   "source": [
    "df = pd.DataFrame({\"key1\":['a','a','b','b','a'],\"key2\":['one','two','one','two','one'],\"data1\": [-0.328944,1.345895,1.130837,-1.094334,-1.521817],\"data2\":[0.736485,-0.862979,-2.286525,-0.339157,0.333159]})"
   ]
  },
  {
   "cell_type": "code",
   "execution_count": 53,
   "id": "2d66e506-4970-4fbb-854c-766b69ede59b",
   "metadata": {},
   "outputs": [
    {
     "data": {
      "text/html": [
       "<div>\n",
       "<style scoped>\n",
       "    .dataframe tbody tr th:only-of-type {\n",
       "        vertical-align: middle;\n",
       "    }\n",
       "\n",
       "    .dataframe tbody tr th {\n",
       "        vertical-align: top;\n",
       "    }\n",
       "\n",
       "    .dataframe thead th {\n",
       "        text-align: right;\n",
       "    }\n",
       "</style>\n",
       "<table border=\"1\" class=\"dataframe\">\n",
       "  <thead>\n",
       "    <tr style=\"text-align: right;\">\n",
       "      <th></th>\n",
       "      <th>key1</th>\n",
       "      <th>key2</th>\n",
       "      <th>data1</th>\n",
       "      <th>data2</th>\n",
       "    </tr>\n",
       "  </thead>\n",
       "  <tbody>\n",
       "    <tr>\n",
       "      <th>0</th>\n",
       "      <td>a</td>\n",
       "      <td>one</td>\n",
       "      <td>-0.328944</td>\n",
       "      <td>0.736485</td>\n",
       "    </tr>\n",
       "    <tr>\n",
       "      <th>1</th>\n",
       "      <td>a</td>\n",
       "      <td>two</td>\n",
       "      <td>1.345895</td>\n",
       "      <td>-0.862979</td>\n",
       "    </tr>\n",
       "    <tr>\n",
       "      <th>2</th>\n",
       "      <td>b</td>\n",
       "      <td>one</td>\n",
       "      <td>1.130837</td>\n",
       "      <td>-2.286525</td>\n",
       "    </tr>\n",
       "    <tr>\n",
       "      <th>3</th>\n",
       "      <td>b</td>\n",
       "      <td>two</td>\n",
       "      <td>-1.094334</td>\n",
       "      <td>-0.339157</td>\n",
       "    </tr>\n",
       "    <tr>\n",
       "      <th>4</th>\n",
       "      <td>a</td>\n",
       "      <td>one</td>\n",
       "      <td>-1.521817</td>\n",
       "      <td>0.333159</td>\n",
       "    </tr>\n",
       "  </tbody>\n",
       "</table>\n",
       "</div>"
      ],
      "text/plain": [
       "  key1 key2     data1     data2\n",
       "0    a  one -0.328944  0.736485\n",
       "1    a  two  1.345895 -0.862979\n",
       "2    b  one  1.130837 -2.286525\n",
       "3    b  two -1.094334 -0.339157\n",
       "4    a  one -1.521817  0.333159"
      ]
     },
     "execution_count": 53,
     "metadata": {},
     "output_type": "execute_result"
    }
   ],
   "source": [
    "df"
   ]
  },
  {
   "cell_type": "code",
   "execution_count": null,
   "id": "ada30b2c-237a-4ab8-9974-b28afd76411e",
   "metadata": {},
   "outputs": [],
   "source": [
    "newdf = pd.DataFrame({\"key\":['a','a','b','b','a'],\"key2\":['one','two','one','two','one'],"
   ]
  },
  {
   "cell_type": "code",
   "execution_count": 55,
   "id": "fe52f9e6-607b-4404-af23-86ff5885a8d3",
   "metadata": {},
   "outputs": [],
   "source": [
    "myobj = df.groupby(['key1','data1'])"
   ]
  },
  {
   "cell_type": "code",
   "execution_count": 59,
   "id": "d84b94be-2c3e-47d5-abf5-4a44b26ba53e",
   "metadata": {},
   "outputs": [
    {
     "data": {
      "text/html": [
       "<div>\n",
       "<style scoped>\n",
       "    .dataframe tbody tr th:only-of-type {\n",
       "        vertical-align: middle;\n",
       "    }\n",
       "\n",
       "    .dataframe tbody tr th {\n",
       "        vertical-align: top;\n",
       "    }\n",
       "\n",
       "    .dataframe thead th {\n",
       "        text-align: right;\n",
       "    }\n",
       "</style>\n",
       "<table border=\"1\" class=\"dataframe\">\n",
       "  <thead>\n",
       "    <tr style=\"text-align: right;\">\n",
       "      <th></th>\n",
       "      <th></th>\n",
       "      <th>key2</th>\n",
       "      <th>data2</th>\n",
       "    </tr>\n",
       "    <tr>\n",
       "      <th>key1</th>\n",
       "      <th>data1</th>\n",
       "      <th></th>\n",
       "      <th></th>\n",
       "    </tr>\n",
       "  </thead>\n",
       "  <tbody>\n",
       "    <tr>\n",
       "      <th rowspan=\"3\" valign=\"top\">a</th>\n",
       "      <th>-1.521817</th>\n",
       "      <td>one</td>\n",
       "      <td>0.333159</td>\n",
       "    </tr>\n",
       "    <tr>\n",
       "      <th>-0.328944</th>\n",
       "      <td>one</td>\n",
       "      <td>0.736485</td>\n",
       "    </tr>\n",
       "    <tr>\n",
       "      <th>1.345895</th>\n",
       "      <td>two</td>\n",
       "      <td>-0.862979</td>\n",
       "    </tr>\n",
       "    <tr>\n",
       "      <th rowspan=\"2\" valign=\"top\">b</th>\n",
       "      <th>-1.094334</th>\n",
       "      <td>two</td>\n",
       "      <td>-0.339157</td>\n",
       "    </tr>\n",
       "    <tr>\n",
       "      <th>1.130837</th>\n",
       "      <td>one</td>\n",
       "      <td>-2.286525</td>\n",
       "    </tr>\n",
       "  </tbody>\n",
       "</table>\n",
       "</div>"
      ],
      "text/plain": [
       "               key2     data2\n",
       "key1 data1                   \n",
       "a    -1.521817  one  0.333159\n",
       "     -0.328944  one  0.736485\n",
       "      1.345895  two -0.862979\n",
       "b    -1.094334  two -0.339157\n",
       "      1.130837  one -2.286525"
      ]
     },
     "execution_count": 59,
     "metadata": {},
     "output_type": "execute_result"
    }
   ],
   "source": [
    "myobj.sum()"
   ]
  },
  {
   "cell_type": "code",
   "execution_count": 58,
   "id": "5d96300b-685f-41a3-b59e-9b6966c93458",
   "metadata": {},
   "outputs": [
    {
     "data": {
      "text/html": [
       "<div>\n",
       "<style scoped>\n",
       "    .dataframe tbody tr th:only-of-type {\n",
       "        vertical-align: middle;\n",
       "    }\n",
       "\n",
       "    .dataframe tbody tr th {\n",
       "        vertical-align: top;\n",
       "    }\n",
       "\n",
       "    .dataframe thead th {\n",
       "        text-align: right;\n",
       "    }\n",
       "</style>\n",
       "<table border=\"1\" class=\"dataframe\">\n",
       "  <thead>\n",
       "    <tr style=\"text-align: right;\">\n",
       "      <th></th>\n",
       "      <th></th>\n",
       "      <th></th>\n",
       "      <th>key2</th>\n",
       "    </tr>\n",
       "    <tr>\n",
       "      <th>key1</th>\n",
       "      <th>data1</th>\n",
       "      <th>data2</th>\n",
       "      <th></th>\n",
       "    </tr>\n",
       "  </thead>\n",
       "  <tbody>\n",
       "    <tr>\n",
       "      <th rowspan=\"3\" valign=\"top\">a</th>\n",
       "      <th>-1.521817</th>\n",
       "      <th>0.333159</th>\n",
       "      <td>one</td>\n",
       "    </tr>\n",
       "    <tr>\n",
       "      <th>-0.328944</th>\n",
       "      <th>0.736485</th>\n",
       "      <td>one</td>\n",
       "    </tr>\n",
       "    <tr>\n",
       "      <th>1.345895</th>\n",
       "      <th>-0.862979</th>\n",
       "      <td>two</td>\n",
       "    </tr>\n",
       "    <tr>\n",
       "      <th rowspan=\"2\" valign=\"top\">b</th>\n",
       "      <th>-1.094334</th>\n",
       "      <th>-0.339157</th>\n",
       "      <td>two</td>\n",
       "    </tr>\n",
       "    <tr>\n",
       "      <th>1.130837</th>\n",
       "      <th>-2.286525</th>\n",
       "      <td>one</td>\n",
       "    </tr>\n",
       "  </tbody>\n",
       "</table>\n",
       "</div>"
      ],
      "text/plain": [
       "                         key2\n",
       "key1 data1     data2         \n",
       "a    -1.521817  0.333159  one\n",
       "     -0.328944  0.736485  one\n",
       "      1.345895 -0.862979  two\n",
       "b    -1.094334 -0.339157  two\n",
       "      1.130837 -2.286525  one"
      ]
     },
     "execution_count": 58,
     "metadata": {},
     "output_type": "execute_result"
    }
   ],
   "source": [
    "df.groupby(['key1'])"
   ]
  },
  {
   "cell_type": "code",
   "execution_count": 60,
   "id": "07f0b4f3-d8bf-469f-b11e-9bd07a5d2bed",
   "metadata": {},
   "outputs": [],
   "source": [
    "states = np.array(['Ohio','California','California','Ohio','Ohio'])"
   ]
  },
  {
   "cell_type": "code",
   "execution_count": 61,
   "id": "f2ef8306-ea3c-4d8b-a06e-37fe15b579d4",
   "metadata": {},
   "outputs": [
    {
     "data": {
      "text/plain": [
       "array(['Ohio', 'California', 'California', 'Ohio', 'Ohio'], dtype='<U10')"
      ]
     },
     "execution_count": 61,
     "metadata": {},
     "output_type": "execute_result"
    }
   ],
   "source": [
    "states"
   ]
  },
  {
   "cell_type": "code",
   "execution_count": 62,
   "id": "7873114f-6ebd-4f73-b51a-3ca4478d9d52",
   "metadata": {},
   "outputs": [
    {
     "data": {
      "text/plain": [
       "array([2005, 2005, 2006, 2005, 2006])"
      ]
     },
     "execution_count": 62,
     "metadata": {},
     "output_type": "execute_result"
    }
   ],
   "source": [
    "years = np.array([2005,2005,2006,2005,2006])\n",
    "years"
   ]
  },
  {
   "cell_type": "code",
   "execution_count": 66,
   "id": "17eef9eb-2c13-41e3-b71d-cc25e1caba59",
   "metadata": {},
   "outputs": [],
   "source": [
    "df.insert(1,'states',states)"
   ]
  },
  {
   "cell_type": "code",
   "execution_count": 67,
   "id": "ffe4b1b6-3497-48b8-b375-ec101135a96e",
   "metadata": {},
   "outputs": [],
   "source": [
    "df.insert(2,'years',years)"
   ]
  },
  {
   "cell_type": "code",
   "execution_count": 68,
   "id": "d4971510-50f2-41e5-a5a0-0b4be3f634c8",
   "metadata": {},
   "outputs": [
    {
     "data": {
      "text/html": [
       "<div>\n",
       "<style scoped>\n",
       "    .dataframe tbody tr th:only-of-type {\n",
       "        vertical-align: middle;\n",
       "    }\n",
       "\n",
       "    .dataframe tbody tr th {\n",
       "        vertical-align: top;\n",
       "    }\n",
       "\n",
       "    .dataframe thead th {\n",
       "        text-align: right;\n",
       "    }\n",
       "</style>\n",
       "<table border=\"1\" class=\"dataframe\">\n",
       "  <thead>\n",
       "    <tr style=\"text-align: right;\">\n",
       "      <th></th>\n",
       "      <th>key1</th>\n",
       "      <th>states</th>\n",
       "      <th>years</th>\n",
       "      <th>key2</th>\n",
       "      <th>data1</th>\n",
       "      <th>data2</th>\n",
       "    </tr>\n",
       "  </thead>\n",
       "  <tbody>\n",
       "    <tr>\n",
       "      <th>0</th>\n",
       "      <td>a</td>\n",
       "      <td>Ohio</td>\n",
       "      <td>2005</td>\n",
       "      <td>one</td>\n",
       "      <td>-0.328944</td>\n",
       "      <td>0.736485</td>\n",
       "    </tr>\n",
       "    <tr>\n",
       "      <th>1</th>\n",
       "      <td>a</td>\n",
       "      <td>California</td>\n",
       "      <td>2005</td>\n",
       "      <td>two</td>\n",
       "      <td>1.345895</td>\n",
       "      <td>-0.862979</td>\n",
       "    </tr>\n",
       "    <tr>\n",
       "      <th>2</th>\n",
       "      <td>b</td>\n",
       "      <td>California</td>\n",
       "      <td>2006</td>\n",
       "      <td>one</td>\n",
       "      <td>1.130837</td>\n",
       "      <td>-2.286525</td>\n",
       "    </tr>\n",
       "    <tr>\n",
       "      <th>3</th>\n",
       "      <td>b</td>\n",
       "      <td>Ohio</td>\n",
       "      <td>2005</td>\n",
       "      <td>two</td>\n",
       "      <td>-1.094334</td>\n",
       "      <td>-0.339157</td>\n",
       "    </tr>\n",
       "    <tr>\n",
       "      <th>4</th>\n",
       "      <td>a</td>\n",
       "      <td>Ohio</td>\n",
       "      <td>2006</td>\n",
       "      <td>one</td>\n",
       "      <td>-1.521817</td>\n",
       "      <td>0.333159</td>\n",
       "    </tr>\n",
       "  </tbody>\n",
       "</table>\n",
       "</div>"
      ],
      "text/plain": [
       "  key1      states  years key2     data1     data2\n",
       "0    a        Ohio   2005  one -0.328944  0.736485\n",
       "1    a  California   2005  two  1.345895 -0.862979\n",
       "2    b  California   2006  one  1.130837 -2.286525\n",
       "3    b        Ohio   2005  two -1.094334 -0.339157\n",
       "4    a        Ohio   2006  one -1.521817  0.333159"
      ]
     },
     "execution_count": 68,
     "metadata": {},
     "output_type": "execute_result"
    }
   ],
   "source": [
    "df"
   ]
  },
  {
   "cell_type": "code",
   "execution_count": 70,
   "id": "e573bfab-ead9-4dc3-9bb4-ce54b66ab37e",
   "metadata": {},
   "outputs": [
    {
     "data": {
      "text/html": [
       "<div>\n",
       "<style scoped>\n",
       "    .dataframe tbody tr th:only-of-type {\n",
       "        vertical-align: middle;\n",
       "    }\n",
       "\n",
       "    .dataframe tbody tr th {\n",
       "        vertical-align: top;\n",
       "    }\n",
       "\n",
       "    .dataframe thead th {\n",
       "        text-align: right;\n",
       "    }\n",
       "</style>\n",
       "<table border=\"1\" class=\"dataframe\">\n",
       "  <thead>\n",
       "    <tr style=\"text-align: right;\">\n",
       "      <th></th>\n",
       "      <th>key1</th>\n",
       "      <th>key2</th>\n",
       "      <th>data1</th>\n",
       "      <th>data2</th>\n",
       "    </tr>\n",
       "  </thead>\n",
       "  <tbody>\n",
       "    <tr>\n",
       "      <th>0</th>\n",
       "      <td>a</td>\n",
       "      <td>one</td>\n",
       "      <td>-0.328944</td>\n",
       "      <td>0.736485</td>\n",
       "    </tr>\n",
       "    <tr>\n",
       "      <th>1</th>\n",
       "      <td>a</td>\n",
       "      <td>two</td>\n",
       "      <td>1.345895</td>\n",
       "      <td>-0.862979</td>\n",
       "    </tr>\n",
       "    <tr>\n",
       "      <th>2</th>\n",
       "      <td>b</td>\n",
       "      <td>one</td>\n",
       "      <td>1.130837</td>\n",
       "      <td>-2.286525</td>\n",
       "    </tr>\n",
       "    <tr>\n",
       "      <th>3</th>\n",
       "      <td>b</td>\n",
       "      <td>two</td>\n",
       "      <td>-1.094334</td>\n",
       "      <td>-0.339157</td>\n",
       "    </tr>\n",
       "    <tr>\n",
       "      <th>4</th>\n",
       "      <td>a</td>\n",
       "      <td>one</td>\n",
       "      <td>-1.521817</td>\n",
       "      <td>0.333159</td>\n",
       "    </tr>\n",
       "  </tbody>\n",
       "</table>\n",
       "</div>"
      ],
      "text/plain": [
       "  key1 key2     data1     data2\n",
       "0    a  one -0.328944  0.736485\n",
       "1    a  two  1.345895 -0.862979\n",
       "2    b  one  1.130837 -2.286525\n",
       "3    b  two -1.094334 -0.339157\n",
       "4    a  one -1.521817  0.333159"
      ]
     },
     "execution_count": 70,
     "metadata": {},
     "output_type": "execute_result"
    }
   ],
   "source": [
    "df"
   ]
  },
  {
   "cell_type": "code",
   "execution_count": null,
   "id": "3960f4f8-77a6-43da-bf1c-9e6bb9a9bf9f",
   "metadata": {},
   "outputs": [],
   "source": [
    "df.groupby(['data1'])"
   ]
  }
 ],
 "metadata": {
  "kernelspec": {
   "display_name": "Python 3 (ipykernel)",
   "language": "python",
   "name": "python3"
  },
  "language_info": {
   "codemirror_mode": {
    "name": "ipython",
    "version": 3
   },
   "file_extension": ".py",
   "mimetype": "text/x-python",
   "name": "python",
   "nbconvert_exporter": "python",
   "pygments_lexer": "ipython3",
   "version": "3.12.2"
  }
 },
 "nbformat": 4,
 "nbformat_minor": 5
}
